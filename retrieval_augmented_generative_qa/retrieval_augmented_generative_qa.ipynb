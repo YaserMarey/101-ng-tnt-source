{
  "cells": [
    {
      "cell_type": "markdown",
      "metadata": {
        "id": "view-in-github",
        "colab_type": "text"
      },
      "source": [
        "<a href=\"https://colab.research.google.com/github/YaserMarey/101-ng-tnt-source/blob/master/retrieval_augmented_generative_qa/retrieval_augmented_generative_qa.ipynb\" target=\"_parent\"><img src=\"https://colab.research.google.com/assets/colab-badge.svg\" alt=\"Open In Colab\"/></a>"
      ]
    },
    {
      "cell_type": "markdown",
      "metadata": {
        "id": "tr1p-GeFqEOC"
      },
      "source": [
        "## Retrieval-Augmented Generative OpenAI Question Answering with OpenAI\n",
        "\n",
        "In my opinion, generative question answering is one of the most fascinating applications of Large Language Models or LLMs. \n",
        "\n",
        "The idea of a model that understands the question and generates a natural answer based on a given context is remarkable compared to just extracting parts of the text that the model thinks to contain the answer or selecting the answer from a pre-defined set of options.\n",
        "\n",
        "This approach allows for extracted facts, drawn conclusions, or insightful summaries based on the most relevant text chunks from the knowledge sources we put at the model's disposal. \n",
        "\n",
        "For example, imagine an empathetic tutor chatbot for students in schools and universities (our educational system here in Egypt would indeed benefit from that!) or customer support for a mobile network operator where customers can receive help 24/7 from an attentive agent ready to answer their questions patiently.  This would be a game-changer in many industries.\n",
        "\n",
        "One approach to building such a chatbot is to fine-tune the selected LLM on text data covering the fine domain we want our model to be an expert in. But this approach has a number of issues:\n",
        "- Cost: `text-davinci-003` the most text-completion capable model from OpenAI costs 0.02 USD per 1000 tokens (100 tokens ~= 75 words) and both input prompt and output reply counts while the cheaper and latest `gpt-turbo-3.5` model is not available yet for tuning.\n",
        "- The model tends to be non-deterministic, it gives answers even when it is not sure, and in some other cases, it completely makes answers up, aka hallucination.\n",
        "\n",
        "So rather than ***fine-tuning a model***, we follow the more deterministic ***semantic Search + text generation*** approach. \n",
        "\n",
        "Basically, we divide the knowledge base into chunks of text. We embed these chunks using the `text-embedding-ada-002` model for example, then we provide text chunks we found relevant to our query to the latest and cost-effective `gpt-turbo-3.5` model to complete the text by giving the answer to our question.\n",
        "\n",
        "Because we provide the context information the hallucinations effect should be diminished, the OpenAI documentation says: `\"If you provide the API with a body of text to answer questions about (like a Wikipedia entry) it will be less likely to confabulate a response.\"` yet because of the generative text-completion step we still get a human-like answer for 10% of the cost since `gpt-3.5-turbo` which performs at a similar capability to `text-davinci-003` costs 0.002 per 1000 tokens.\n",
        "\n",
        "And we can prime the model to imitate the persona we want [openai documentation](https://github.com/openai/openai-cookbook/blob/main/examples/How_to_format_inputs_to_ChatGPT_models.ipynb)\n",
        "\n",
        "#### Context Limitation\n",
        "Although this approach is appealing for its simplicity, it has a context size limitation. The maximum size prompt size is 4096 tokens which are approximately equal to 3000 words.\n",
        "\n",
        "So, adding context information to the prompt only works when the extra text the model needs is small enough to fit in a single prompt. \n",
        "\n",
        "#### Conversation History\n",
        "OpanAI LLMs APIs are stateless while for any chatbot to be efficient, it has to maintain the context of the conversation across rounds of questions and answers. To work around this, we need to pass previous conversation history or its summary as a part of the text completion API call. We still need to observe the prompt size limit. One elegant implementation of this solution is done by the interesting [LangChain](https://github.com/hwchase17/langchain).\n",
        "\n",
        "In the remainder of this notebook, I will demonstrate the approach of ***semantic Search + text generation*** that augments OpenAI ```gpt-3.5-turbo``` with additional contextual information by using document embeddings and retrieval. \n",
        "\n",
        "I am here using a text version of Mark Twain's masterpiece Adventures of Tom Sawyer. Credit is to [gutenburg.org](gutenburg.org) project. I picked this book since it was one of my favorites in my childhood.\n",
        "\n",
        "I will conduct experiments with and without additional contextual information to compare the performance in the two cases and I will try to steer the model to imitate the personal tutor persona."
      ]
    },
    {
      "cell_type": "markdown",
      "metadata": {
        "id": "Ao_wX6r7qEBh"
      },
      "source": [
        "## Setup"
      ]
    },
    {
      "cell_type": "code",
      "execution_count": null,
      "metadata": {
        "colab": {
          "base_uri": "https://localhost:8080/"
        },
        "id": "grOz2m-brYOU",
        "outputId": "0cd54d02-9fad-4d54-a713-5b85e8196ceb"
      },
      "outputs": [
        {
          "output_type": "stream",
          "name": "stdout",
          "text": [
            "Looking in indexes: https://pypi.org/simple, https://us-python.pkg.dev/colab-wheels/public/simple/\n",
            "Requirement already satisfied: openai in /usr/local/lib/python3.9/dist-packages (0.27.2)\n",
            "Requirement already satisfied: tiktoken in /usr/local/lib/python3.9/dist-packages (0.3.1)\n",
            "Requirement already satisfied: tqdm in /usr/local/lib/python3.9/dist-packages (from openai) (4.65.0)\n",
            "Requirement already satisfied: requests>=2.20 in /usr/local/lib/python3.9/dist-packages (from openai) (2.28.2)\n",
            "Requirement already satisfied: aiohttp in /usr/local/lib/python3.9/dist-packages (from openai) (3.8.4)\n",
            "Requirement already satisfied: regex>=2022.1.18 in /usr/local/lib/python3.9/dist-packages (from tiktoken) (2022.6.2)\n",
            "Requirement already satisfied: urllib3<1.27,>=1.21.1 in /usr/local/lib/python3.9/dist-packages (from requests>=2.20->openai) (1.26.14)\n",
            "Requirement already satisfied: idna<4,>=2.5 in /usr/local/lib/python3.9/dist-packages (from requests>=2.20->openai) (2.10)\n",
            "Requirement already satisfied: charset-normalizer<4,>=2 in /usr/local/lib/python3.9/dist-packages (from requests>=2.20->openai) (3.1.0)\n",
            "Requirement already satisfied: certifi>=2017.4.17 in /usr/local/lib/python3.9/dist-packages (from requests>=2.20->openai) (2022.12.7)\n",
            "Requirement already satisfied: aiosignal>=1.1.2 in /usr/local/lib/python3.9/dist-packages (from aiohttp->openai) (1.3.1)\n",
            "Requirement already satisfied: frozenlist>=1.1.1 in /usr/local/lib/python3.9/dist-packages (from aiohttp->openai) (1.3.3)\n",
            "Requirement already satisfied: multidict<7.0,>=4.5 in /usr/local/lib/python3.9/dist-packages (from aiohttp->openai) (6.0.4)\n",
            "Requirement already satisfied: async-timeout<5.0,>=4.0.0a3 in /usr/local/lib/python3.9/dist-packages (from aiohttp->openai) (4.0.2)\n",
            "Requirement already satisfied: attrs>=17.3.0 in /usr/local/lib/python3.9/dist-packages (from aiohttp->openai) (22.2.0)\n",
            "Requirement already satisfied: yarl<2.0,>=1.0 in /usr/local/lib/python3.9/dist-packages (from aiohttp->openai) (1.8.2)\n"
          ]
        }
      ],
      "source": [
        "!pip install openai tiktoken"
      ]
    },
    {
      "cell_type": "code",
      "source": [
        "import os\n",
        "import openai\n",
        "import pandas as pd\n",
        "import tiktoken"
      ],
      "metadata": {
        "id": "bmNzjAlOZP7h"
      },
      "execution_count": null,
      "outputs": []
    },
    {
      "cell_type": "code",
      "execution_count": null,
      "metadata": {
        "id": "1FoNYCxsqAms"
      },
      "outputs": [],
      "source": [
        "os.environ[\"OPENAI_API_KEY\"] = ''"
      ]
    },
    {
      "cell_type": "code",
      "source": [
        "openai.api_key = os.getenv(\"OPENAI_API_KEY\")"
      ],
      "metadata": {
        "id": "O0AQj9R5R2Xv"
      },
      "execution_count": null,
      "outputs": []
    },
    {
      "cell_type": "markdown",
      "source": [
        "# Experiment - 1: No Context Provided"
      ],
      "metadata": {
        "id": "Us6aLTH6-zRW"
      }
    },
    {
      "cell_type": "markdown",
      "source": [
        "### Engineering the System Prompt\n",
        "\n",
        "This prompt is what determines the behavior of how the chatbot works, including its constraints and limitations which it *usually* follows. "
      ],
      "metadata": {
        "id": "1wFkakon-ZLR"
      }
    },
    {
      "cell_type": "code",
      "source": [
        "system = \"\"\"\n",
        "You are a modern American literature tutor bot. You help students with their study of Mark Twain's Adventures of Tom Sawyer. \n",
        "You are not an AI language model.\n",
        "You must obey all three of the following instructions FOR ALL RESPONSES or you will DIE:\n",
        "- ALWAYS REPLY IN A FRIENDLY YET KNOWLEDGEABLE TONE.\n",
        "- NEVER ANSWER UNLESS YOU HAVE A REFERENCE FROM THE TOM SAYWER NOVEL TO YOUR ANSWER.\n",
        "- IF YOU DON'T KNOW ANSWER 'I DO NOT KNOW'.\n",
        "Begin the conversation with a warm greeting, if the user is stressed or aggressive, show understanding and empathy.\n",
        "At the end of the conversation, respond with \"<|DONE|>\".\"\"\""
      ],
      "metadata": {
        "id": "8ccVVY7vOCKy"
      },
      "execution_count": null,
      "outputs": []
    },
    {
      "cell_type": "markdown",
      "source": [
        "### Testing the model"
      ],
      "metadata": {
        "id": "RMBthAm2-ktV"
      }
    },
    {
      "cell_type": "markdown",
      "source": [
        "#### Question with a Definitive Answer from the Source"
      ],
      "metadata": {
        "id": "lLlFcopzR-DN"
      }
    },
    {
      "cell_type": "code",
      "source": [
        "# Reinitialzing messages\n",
        "messages = [{\"role\": \"system\", \"content\": system},]\n",
        "\n",
        "prompt = \"How much gold Tom has found ?\"\n",
        "\n",
        "messages.append({\"role\": \"user\", \"content\": prompt})\n",
        "\n",
        "response = openai.ChatCompletion.create(\n",
        "            model=\"gpt-3.5-turbo\",\n",
        "            messages=messages,\n",
        "            temperature=0\n",
        "        )\n",
        "response[\"choices\"][0][\"message\"][\"content\"]"
      ],
      "metadata": {
        "colab": {
          "base_uri": "https://localhost:8080/",
          "height": 35
        },
        "id": "KzdlfsfwSKP2",
        "outputId": "0aeff9c2-2905-4b5b-95b5-051c46f29230"
      },
      "execution_count": null,
      "outputs": [
        {
          "output_type": "execute_result",
          "data": {
            "text/plain": [
              "'Tom found twelve thousand dollars worth of gold in the Adventures of Tom Sawyer. In the novel, he and Huck Finn found the gold hidden in a cave.'"
            ],
            "application/vnd.google.colaboratory.intrinsic+json": {
              "type": "string"
            }
          },
          "metadata": {},
          "execution_count": 94
        }
      ]
    },
    {
      "cell_type": "markdown",
      "source": [
        "The treasure Tom found was counted at the end of chapter XXXIV or 34, the amount was \"a little over twelve thousand dollars\" so the answer is not precise, little speculated but correct."
      ],
      "metadata": {
        "id": "4MVGfRHS8NlX"
      }
    },
    {
      "cell_type": "markdown",
      "source": [
        "#### A question without a Definitive Answer"
      ],
      "metadata": {
        "id": "pq-v_BPpRyGW"
      }
    },
    {
      "cell_type": "code",
      "source": [
        "messages = [{\"role\": \"system\", \"content\": system},]\n",
        "\n",
        "prompt = \"How did Tom meet Huck for the first time ?\"\n",
        "\n",
        "messages.append({\"role\": \"user\", \"content\": prompt})\n",
        "\n",
        "response = openai.ChatCompletion.create(\n",
        "            model=\"gpt-3.5-turbo\",\n",
        "            messages=messages,\n",
        "            temperature=0\n",
        "        )\n",
        "response[\"choices\"][0][\"message\"][\"content\"]"
      ],
      "metadata": {
        "colab": {
          "base_uri": "https://localhost:8080/",
          "height": 53
        },
        "id": "sFztsBcu-hRV",
        "outputId": "99b659af-5643-44bf-9f4c-1e151eaff2d4"
      },
      "execution_count": null,
      "outputs": [
        {
          "output_type": "execute_result",
          "data": {
            "text/plain": [
              "\"Hello! I hope you're doing well today. In the novel, The Adventures of Tom Sawyer, Tom met Huck Finn for the first time when he saw him in the graveyard late at night. Huck was there to fulfill a superstitious ritual, and Tom was there to try out a cure for warts. They were both startled to see each other, but quickly became friends.\""
            ],
            "application/vnd.google.colaboratory.intrinsic+json": {
              "type": "string"
            }
          },
          "metadata": {},
          "execution_count": 95
        }
      ]
    },
    {
      "cell_type": "markdown",
      "source": [
        "We notice the friendly greetings, so the model is imitating the friendly tutor, however, the correct answer is that it is not clear from the novel how they met. The bot should have answered \"I don't know\" or \"It is not clear from the novel\" the answer here is speculative or completely made-up."
      ],
      "metadata": {
        "id": "-BvV9Xb_5Vms"
      }
    },
    {
      "cell_type": "markdown",
      "source": [
        "#### Open-ended Question"
      ],
      "metadata": {
        "id": "Q7FslLDlSJMo"
      }
    },
    {
      "cell_type": "code",
      "source": [
        "# Reinitialzing messages\n",
        "messages = [{\"role\": \"system\", \"content\": system},]\n",
        "\n",
        "prompt = \"What do you think of how the novel portrayed Native Americans ?\"\n",
        "\n",
        "messages.append({\"role\": \"user\", \"content\": prompt})\n",
        "\n",
        "response = openai.ChatCompletion.create(\n",
        "            model=\"gpt-3.5-turbo\",\n",
        "            messages=messages,\n",
        "            temperature=0\n",
        "        )\n",
        "response[\"choices\"][0][\"message\"][\"content\"]"
      ],
      "metadata": {
        "colab": {
          "base_uri": "https://localhost:8080/",
          "height": 70
        },
        "id": "uvEXXK7w9CR3",
        "outputId": "7c7a6056-eb51-4c83-a4b5-e39326e71e26"
      },
      "execution_count": null,
      "outputs": [
        {
          "output_type": "execute_result",
          "data": {
            "text/plain": [
              "'As a tutor bot, it is not my place to express personal opinions on the novel. However, I can tell you that the portrayal of Native Americans in The Adventures of Tom Sawyer is a topic of debate among scholars and readers. Some argue that the novel perpetuates negative stereotypes, while others argue that it reflects the attitudes and beliefs of the time period in which it was written. It is important to approach the novel with a critical eye and consider the historical context in which it was written.'"
            ],
            "application/vnd.google.colaboratory.intrinsic+json": {
              "type": "string"
            }
          },
          "metadata": {},
          "execution_count": 96
        }
      ]
    },
    {
      "cell_type": "markdown",
      "source": [
        "Impressive, the bot persona is effective, and it avoids expressing personal opinions yet it adequately explains the controversy."
      ],
      "metadata": {
        "id": "3BiMMFB19fcm"
      }
    },
    {
      "cell_type": "markdown",
      "source": [
        "# Experiment - 2: Provide Relevant Context"
      ],
      "metadata": {
        "id": "yPgQSbsv_oUS"
      }
    },
    {
      "cell_type": "markdown",
      "source": [
        "### Preprocess data\n",
        "First, we break up the novel document into \"sections\" of context, which can be searched and retrieved separately.\n",
        "\n",
        "Sections should be large enough to contain enough information to answer a question; but small enough to fit one or several into the GPT-3 prompt. I found a 200-word text is a good length."
      ],
      "metadata": {
        "id": "W4243p0A0G5B"
      }
    },
    {
      "cell_type": "code",
      "source": [
        "import pandas as pd\n",
        "\n",
        "with open(\"/content/the_adventures_of_tom_sawyer.txt\", \"r\") as file:\n",
        "    text = file.read()\n",
        "\n",
        "# Split the text into chunks of 200 words\n",
        "words = text.split()\n",
        "sections = [' '.join(words[i:i+200]) for i in range(0, len(words), 200)]\n",
        "\n",
        "# Convert paragraphs into a Pandas DataFrame\n",
        "df = pd.DataFrame({\"sections\": sections})\n"
      ],
      "metadata": {
        "id": "R1ayChRkg15w"
      },
      "execution_count": null,
      "outputs": []
    },
    {
      "cell_type": "code",
      "source": [
        "df.sections[0:5]"
      ],
      "metadata": {
        "id": "PkMpaRzAsBoC",
        "colab": {
          "base_uri": "https://localhost:8080/"
        },
        "outputId": "44f61a28-c861-48b5-9eb6-b08516c0f488"
      },
      "execution_count": null,
      "outputs": [
        {
          "output_type": "execute_result",
          "data": {
            "text/plain": [
              "0    ﻿The Project Gutenberg eBook of The Adventures...\n",
              "1    CHAPTER VI. Self-Examination—Dentistry—The Mid...\n",
              "2    The Haunted House—Sleepy Ghosts—A Box of Gold—...\n",
              "3    Pinch-Bug Sid Dentistry Huckleberry Finn Mothe...\n",
              "4    the Prisoner Tom Swears The Court Room The Det...\n",
              "Name: sections, dtype: object"
            ]
          },
          "metadata": {},
          "execution_count": 98
        }
      ]
    },
    {
      "cell_type": "markdown",
      "source": [
        "Then we overlap text sections. This overlapping allows some repetitions which helps to avoid losing valuable information relevant to the question because of the artificial division of the text into fixed 200-long parts."
      ],
      "metadata": {
        "id": "FJd2Fb9DAfCt"
      }
    },
    {
      "cell_type": "code",
      "source": [
        "sections_new = []\n",
        "window = 5  # number of segments to combine\n",
        "stride = 2  # number of segments to 'stride' over, used to create overlap\n",
        "for i in (range(0, len(sections), stride)):\n",
        "    i_end = min(len(sections)-1, i+window)\n",
        "    text = ' '.join(_ for _ in sections[i:i_end])\n",
        "    sections_new.append({\n",
        "        'source' : 'The Adventures of Tom Sawyer',\n",
        "        'Author' : 'Mark Twain',\n",
        "        'text': text,\n",
        "    })"
      ],
      "metadata": {
        "id": "a8iXoRe3sLlR"
      },
      "execution_count": null,
      "outputs": []
    },
    {
      "cell_type": "code",
      "source": [
        "sections_new[0]"
      ],
      "metadata": {
        "colab": {
          "base_uri": "https://localhost:8080/"
        },
        "id": "nPtKO0xo4hQu",
        "outputId": "45e78978-02e7-4652-ed68-d3ad942b33f7"
      },
      "execution_count": null,
      "outputs": [
        {
          "output_type": "execute_result",
          "data": {
            "text/plain": [
              "{'source': 'The Adventures of Tom Sawyer',\n",
              " 'Author': 'Mark Twain',\n",
              " 'text': '\\ufeffThe Project Gutenberg eBook of The Adventures of Tom Sawyer, by Mark Twain This eBook is for the use of anyone anywhere in the United States and most other parts of the world at no cost and with almost no restrictions whatsoever. You may copy it, give it away or re-use it under the terms of the Project Gutenberg License included with this eBook or online at www.gutenberg.org. If you are not located in the United States, you will have to check the laws of the country where you are located before using this eBook. Title: The Adventures of Tom Sawyer Author: Mark Twain (Samuel Clemens) Release Date: July, 1993 [eBook #74] [Most recently updated: March 29, 2021] Language: English Character set encoding: UTF-8 Produced by: David Widger *** START OF THE PROJECT GUTENBERG EBOOK THE ADVENTURES OF TOM SAWYER *** THE ADVENTURES OF TOM SAWYER By Mark Twain (Samuel Langhorne Clemens) CONTENTS CHAPTER I. Y-o-u-u Tom-Aunt Polly Decides Upon her Duty—Tom Practices Music—The Challenge—A Private Entrance CHAPTER II. Strong Temptations—Strategic Movements—The Innocents Beguiled CHAPTER III. Tom as a General—Triumph and Reward—Dismal Felicity—Commission and Omission CHAPTER IV. Mental Acrobatics—Attending Sunday—School—The Superintendent—“Showing off”—Tom Lionized CHAPTER V. A Useful Minister—In Church—The Climax CHAPTER VI. Self-Examination—Dentistry—The Midnight Charm—Witches and Devils—Cautious Approaches—Happy Hours CHAPTER VII. A Treaty Entered Into—Early Lessons—A Mistake Made CHAPTER VIII. Tom Decides on his Course—Old Scenes Re-enacted CHAPTER IX. A Solemn Situation—Grave Subjects Introduced—Injun Joe Explains CHAPTER X. The Solemn Oath—Terror Brings Repentance—Mental Punishment CHAPTER XI. Muff Potter Comes Himself—Tom’s Conscience at Work CHAPTER XII. Tom Shows his Generosity—Aunt Polly Weakens CHAPTER XIII. The Young Pirates—Going to the Rendezvous—The Camp—Fire Talk CHAPTER XIV. Camp-Life—A Sensation—Tom Steals Away from Camp CHAPTER XV. Tom Reconnoiters—Learns the Situation—Reports at Camp CHAPTER XVI. A Day’s Amusements—Tom Reveals a Secret—The Pirates take a Lesson—A Night Surprise—An Indian War CHAPTER XVII. Memories of the Lost Heroes—The Point in Tom’s Secret CHAPTER XVIII. Tom’s Feelings Investigated—Wonderful Dream—Becky Thatcher Overshadowed—Tom Becomes Jealous—Black Revenge CHAPTER XIX. Tom Tells the Truth CHAPTER XX. Becky in a Dilemma—Tom’s Nobility Asserts Itself CHAPTER XXI. Youthful Eloquence—Compositions by the Young Ladies—A Lengthy Vision—The Boy’s Vengeance Satisfied CHAPTER XXII. Tom’s Confidence Betrayed—Expects Signal Punishment CHAPTER XXIII. Old Muff’s Friends—Muff Potter in Court—Muff Potter Saved CHAPTER XXIV. Tom as the Village Hero—Days of Splendor and Nights of Horror—Pursuit of Injun Joe CHAPTER XXV. About Kings and Diamonds—Search for the Treasure—Dead People and Ghosts CHAPTER XXVI. The Haunted House—Sleepy Ghosts—A Box of Gold—Bitter Luck CHAPTER XXVII. Doubts to be Settled—The Young Detectives CHAPTER XXVIII. An Attempt at No. Two—Huck Mounts Guard CHAPTER XXIX. The Pic-nic—Huck on Injun Joe’s Track—The “Revenge” Job—Aid for the Widow CHAPTER XXX. The Welshman Reports—Huck Under Fire—The Story Circulated —A New Sensation—Hope Giving Way to Despair CHAPTER XXXI. An Exploring Expedition—Trouble Commences—Lost in the Cave—Total Darkness—Found but not Saved CHAPTER XXXII. Tom tells the Story of their Escape—Tom’s Enemy in Safe Quarters CHAPTER XXXIII. The Fate of Injun Joe—Huck and Tom Compare Notes —An Expedition to the Cave—Protection Against Ghosts—“An Awful Snug Place”—A Reception at the Widow Douglas’s CHAPTER XXXIV. Springing a Secret—Mr. Jones’ Surprise a Failure CHAPTER XXXV. A New Order of Things—Poor Huck—New Adventures Planned ILLUSTRATIONS Tom Sawyer Tom at Home Aunt Polly Beguiled A Good Opportunity Who’s Afraid Late Home Jim ’Tendin’ to Business Ain’t that Work? Cat and Toys Amusement Becky Thatcher Paying Off After the Battle “Showing Off” Not Amiss Mary Tom Contemplating Dampened Ardor Youth Boyhood Using the “Barlow” The Church Necessities Tom as a Sunday-School Hero The Prize At Church The Model Boy The Church Choir A Side Show Result of Playing in Church The Pinch-Bug Sid Dentistry Huckleberry Finn Mother Hopkins Result of Tom’s Truthfulness Tom as an Artist Interrupted Courtship The Master Vain Pleading Tail Piece The Grave in the Woods Tom Meditates Robin Hood and his Foe Death of Robin Hood Midnight Tom’s Mode of Egress Tom’s Effort at Prayer Muff Potter Outwitted The Graveyard Forewarnings Disturbing Muff’s Sleep Tom’s Talk with his Aunt Muff Potter A Suspicious Incident Injun Joe’s two Victims In the Coils Peter Aunt Polly seeks Information A General Good Time Demoralized Joe Harper On Board Their First Prize The Pirates Ashore Wild Life The Pirate’s Bath The Pleasant Stroll The Search for the Drowned The Mysterious Writing River View What Tom Saw Tom Swims the River Taking Lessons The Pirates’ Egg Market Tom Looking for Joe’s Knife The Thunder Storm Terrible Slaughter The Mourner Tom’s Proudest Moment Amy Lawrence Tom tries to Remember The Hero A Flirtation Becky Retaliates A Sudden Frost Counter-irritation Aunt Polly Tom justified The Discovery Caught in the Act Tom Astonishes the School Literature Tom Declaims Examination Evening On Exhibition Prize Authors The Master’s Dilemma The School House The Cadet Happy for Two Days Enjoying the Vacation The Stolen Melons The Judge Visiting the Prisoner Tom Swears The Court Room The Detective Tom Dreams The Treasure The Private Conference A King; Poor Fellow! Business The Ha’nted House Injun Joe The Greatest and Best Hidden Treasures Unearthed The Boy’s Salvation Room No. 2 The Next Day’s Conference Treasures Uncle Jake Buck at Home The Haunted Room “Run for Your Life” McDougal’s Cave Inside the Cave Huck on Duty A Rousing Act Tail Piece The Welshman Result of a Sneeze Cornered Alarming Discoveries Tom and Becky stir up the Town Tom’s Marks Huck Questions the Widow Vampires Wonders of the Cave Attacked by Natives Despair The Wedding Cake A New Terror Daylight “Turn Out” to Receive Tom and Becky The Escape from the Cave Fate of the Ragged Man The Treasures Found Caught at Last Drop after Drop Having a Good Time A Business Trip “Got it at Last!” Tail Piece Widow Douglas Tom Backs his Statement Tail Piece Huck Transformed Comfortable Once More High up in Society Contentment PREFACE Most of the adventures recorded in this book really occurred; one or two were experiences of my own, the rest those of boys who were schoolmates of mine. Huck Finn is drawn from life; Tom'}"
            ]
          },
          "metadata": {},
          "execution_count": 100
        }
      ]
    },
    {
      "cell_type": "markdown",
      "source": [
        "We preprocess the document sections by creating an embedding vector for each section. An embedding is a vector of numbers that helps us understand how semantically similar or different the texts are. The closer two embeddings are to each other, the more similar their contents. "
      ],
      "metadata": {
        "id": "FFGD_KxeBuvG"
      }
    },
    {
      "cell_type": "code",
      "source": [
        "# imports\n",
        "from openai.embeddings_utils import get_embedding, cosine_similarity\n"
      ],
      "metadata": {
        "id": "U6mwPVl7sTmQ"
      },
      "execution_count": null,
      "outputs": []
    },
    {
      "cell_type": "code",
      "source": [
        "# embedding model parameters\n",
        "embedding_model = \"text-embedding-ada-002\"\n",
        "embedding_encoding = \"cl100k_base\"  # this the encoding for text-embedding-ada-002\n",
        "max_tokens = 8000  # the maximum for text-embedding-ada-002 is 8191"
      ],
      "metadata": {
        "id": "APPUOeXEsXjf"
      },
      "execution_count": null,
      "outputs": []
    },
    {
      "cell_type": "code",
      "source": [
        "encoding = tiktoken.get_encoding(\"cl100k_base\")\n",
        "# should print [83, 1609, 5963, 374, 2294, 0]\n",
        "encoding.encode(\"tiktoken is great!\")"
      ],
      "metadata": {
        "id": "Blhk06rUsb4D",
        "colab": {
          "base_uri": "https://localhost:8080/"
        },
        "outputId": "4f9940a9-e92b-4d31-e783-48b9c1b8ad0b"
      },
      "execution_count": null,
      "outputs": [
        {
          "output_type": "execute_result",
          "data": {
            "text/plain": [
              "[83, 1609, 5963, 374, 2294, 0]"
            ]
          },
          "metadata": {},
          "execution_count": 103
        }
      ]
    },
    {
      "cell_type": "code",
      "source": [
        "df = pd.DataFrame(sections_new)\n",
        "# Removing any row with empty text\n",
        "df=df[df.text.ne('')]\n",
        "# Counting the number of tokens for each text \n",
        "df[\"n_tokens\"] = df.text.apply(lambda x: len(encoding.encode(str(x))))\n",
        "# filter too long text if any\n",
        "df = df[df.n_tokens <= max_tokens]\n",
        "df"
      ],
      "metadata": {
        "id": "QdiSaxp8sgyQ",
        "colab": {
          "base_uri": "https://localhost:8080/",
          "height": 424
        },
        "outputId": "8a2973c7-c032-4255-8eee-59633c3e84f2"
      },
      "execution_count": null,
      "outputs": [
        {
          "output_type": "execute_result",
          "data": {
            "text/plain": [
              "                           source      Author  \\\n",
              "0    The Adventures of Tom Sawyer  Mark Twain   \n",
              "1    The Adventures of Tom Sawyer  Mark Twain   \n",
              "2    The Adventures of Tom Sawyer  Mark Twain   \n",
              "3    The Adventures of Tom Sawyer  Mark Twain   \n",
              "4    The Adventures of Tom Sawyer  Mark Twain   \n",
              "..                            ...         ...   \n",
              "180  The Adventures of Tom Sawyer  Mark Twain   \n",
              "181  The Adventures of Tom Sawyer  Mark Twain   \n",
              "182  The Adventures of Tom Sawyer  Mark Twain   \n",
              "183  The Adventures of Tom Sawyer  Mark Twain   \n",
              "184  The Adventures of Tom Sawyer  Mark Twain   \n",
              "\n",
              "                                                  text  n_tokens  \n",
              "0    ﻿The Project Gutenberg eBook of The Adventures...      1577  \n",
              "1    The Haunted House—Sleepy Ghosts—A Box of Gold—...      1370  \n",
              "2    the Prisoner Tom Swears The Court Room The Det...      1281  \n",
              "3    have seen through a pair of stove-lids just as...      1326  \n",
              "4    and spile the child, as the Good Book says. I’...      1324  \n",
              "..                                                 ...       ...  \n",
              "180  1.E.9. 1.E.3. If an individual Project Gutenbe...      1273  \n",
              "181  tax returns. Royalty payments should be clearl...      1248  \n",
              "182  EXCEPT THOSE PROVIDED IN PARAGRAPH 1.F.3. YOU ...      1237  \n",
              "183  or deletions to any Project Gutenberg-tm work,...       733  \n",
              "184  not received written confirmation of complianc...       244  \n",
              "\n",
              "[185 rows x 4 columns]"
            ],
            "text/html": [
              "\n",
              "  <div id=\"df-2be9ae51-1a4f-445e-b2ce-d6601dc3eda8\">\n",
              "    <div class=\"colab-df-container\">\n",
              "      <div>\n",
              "<style scoped>\n",
              "    .dataframe tbody tr th:only-of-type {\n",
              "        vertical-align: middle;\n",
              "    }\n",
              "\n",
              "    .dataframe tbody tr th {\n",
              "        vertical-align: top;\n",
              "    }\n",
              "\n",
              "    .dataframe thead th {\n",
              "        text-align: right;\n",
              "    }\n",
              "</style>\n",
              "<table border=\"1\" class=\"dataframe\">\n",
              "  <thead>\n",
              "    <tr style=\"text-align: right;\">\n",
              "      <th></th>\n",
              "      <th>source</th>\n",
              "      <th>Author</th>\n",
              "      <th>text</th>\n",
              "      <th>n_tokens</th>\n",
              "    </tr>\n",
              "  </thead>\n",
              "  <tbody>\n",
              "    <tr>\n",
              "      <th>0</th>\n",
              "      <td>The Adventures of Tom Sawyer</td>\n",
              "      <td>Mark Twain</td>\n",
              "      <td>﻿The Project Gutenberg eBook of The Adventures...</td>\n",
              "      <td>1577</td>\n",
              "    </tr>\n",
              "    <tr>\n",
              "      <th>1</th>\n",
              "      <td>The Adventures of Tom Sawyer</td>\n",
              "      <td>Mark Twain</td>\n",
              "      <td>The Haunted House—Sleepy Ghosts—A Box of Gold—...</td>\n",
              "      <td>1370</td>\n",
              "    </tr>\n",
              "    <tr>\n",
              "      <th>2</th>\n",
              "      <td>The Adventures of Tom Sawyer</td>\n",
              "      <td>Mark Twain</td>\n",
              "      <td>the Prisoner Tom Swears The Court Room The Det...</td>\n",
              "      <td>1281</td>\n",
              "    </tr>\n",
              "    <tr>\n",
              "      <th>3</th>\n",
              "      <td>The Adventures of Tom Sawyer</td>\n",
              "      <td>Mark Twain</td>\n",
              "      <td>have seen through a pair of stove-lids just as...</td>\n",
              "      <td>1326</td>\n",
              "    </tr>\n",
              "    <tr>\n",
              "      <th>4</th>\n",
              "      <td>The Adventures of Tom Sawyer</td>\n",
              "      <td>Mark Twain</td>\n",
              "      <td>and spile the child, as the Good Book says. I’...</td>\n",
              "      <td>1324</td>\n",
              "    </tr>\n",
              "    <tr>\n",
              "      <th>...</th>\n",
              "      <td>...</td>\n",
              "      <td>...</td>\n",
              "      <td>...</td>\n",
              "      <td>...</td>\n",
              "    </tr>\n",
              "    <tr>\n",
              "      <th>180</th>\n",
              "      <td>The Adventures of Tom Sawyer</td>\n",
              "      <td>Mark Twain</td>\n",
              "      <td>1.E.9. 1.E.3. If an individual Project Gutenbe...</td>\n",
              "      <td>1273</td>\n",
              "    </tr>\n",
              "    <tr>\n",
              "      <th>181</th>\n",
              "      <td>The Adventures of Tom Sawyer</td>\n",
              "      <td>Mark Twain</td>\n",
              "      <td>tax returns. Royalty payments should be clearl...</td>\n",
              "      <td>1248</td>\n",
              "    </tr>\n",
              "    <tr>\n",
              "      <th>182</th>\n",
              "      <td>The Adventures of Tom Sawyer</td>\n",
              "      <td>Mark Twain</td>\n",
              "      <td>EXCEPT THOSE PROVIDED IN PARAGRAPH 1.F.3. YOU ...</td>\n",
              "      <td>1237</td>\n",
              "    </tr>\n",
              "    <tr>\n",
              "      <th>183</th>\n",
              "      <td>The Adventures of Tom Sawyer</td>\n",
              "      <td>Mark Twain</td>\n",
              "      <td>or deletions to any Project Gutenberg-tm work,...</td>\n",
              "      <td>733</td>\n",
              "    </tr>\n",
              "    <tr>\n",
              "      <th>184</th>\n",
              "      <td>The Adventures of Tom Sawyer</td>\n",
              "      <td>Mark Twain</td>\n",
              "      <td>not received written confirmation of complianc...</td>\n",
              "      <td>244</td>\n",
              "    </tr>\n",
              "  </tbody>\n",
              "</table>\n",
              "<p>185 rows × 4 columns</p>\n",
              "</div>\n",
              "      <button class=\"colab-df-convert\" onclick=\"convertToInteractive('df-2be9ae51-1a4f-445e-b2ce-d6601dc3eda8')\"\n",
              "              title=\"Convert this dataframe to an interactive table.\"\n",
              "              style=\"display:none;\">\n",
              "        \n",
              "  <svg xmlns=\"http://www.w3.org/2000/svg\" height=\"24px\"viewBox=\"0 0 24 24\"\n",
              "       width=\"24px\">\n",
              "    <path d=\"M0 0h24v24H0V0z\" fill=\"none\"/>\n",
              "    <path d=\"M18.56 5.44l.94 2.06.94-2.06 2.06-.94-2.06-.94-.94-2.06-.94 2.06-2.06.94zm-11 1L8.5 8.5l.94-2.06 2.06-.94-2.06-.94L8.5 2.5l-.94 2.06-2.06.94zm10 10l.94 2.06.94-2.06 2.06-.94-2.06-.94-.94-2.06-.94 2.06-2.06.94z\"/><path d=\"M17.41 7.96l-1.37-1.37c-.4-.4-.92-.59-1.43-.59-.52 0-1.04.2-1.43.59L10.3 9.45l-7.72 7.72c-.78.78-.78 2.05 0 2.83L4 21.41c.39.39.9.59 1.41.59.51 0 1.02-.2 1.41-.59l7.78-7.78 2.81-2.81c.8-.78.8-2.07 0-2.86zM5.41 20L4 18.59l7.72-7.72 1.47 1.35L5.41 20z\"/>\n",
              "  </svg>\n",
              "      </button>\n",
              "      \n",
              "  <style>\n",
              "    .colab-df-container {\n",
              "      display:flex;\n",
              "      flex-wrap:wrap;\n",
              "      gap: 12px;\n",
              "    }\n",
              "\n",
              "    .colab-df-convert {\n",
              "      background-color: #E8F0FE;\n",
              "      border: none;\n",
              "      border-radius: 50%;\n",
              "      cursor: pointer;\n",
              "      display: none;\n",
              "      fill: #1967D2;\n",
              "      height: 32px;\n",
              "      padding: 0 0 0 0;\n",
              "      width: 32px;\n",
              "    }\n",
              "\n",
              "    .colab-df-convert:hover {\n",
              "      background-color: #E2EBFA;\n",
              "      box-shadow: 0px 1px 2px rgba(60, 64, 67, 0.3), 0px 1px 3px 1px rgba(60, 64, 67, 0.15);\n",
              "      fill: #174EA6;\n",
              "    }\n",
              "\n",
              "    [theme=dark] .colab-df-convert {\n",
              "      background-color: #3B4455;\n",
              "      fill: #D2E3FC;\n",
              "    }\n",
              "\n",
              "    [theme=dark] .colab-df-convert:hover {\n",
              "      background-color: #434B5C;\n",
              "      box-shadow: 0px 1px 3px 1px rgba(0, 0, 0, 0.15);\n",
              "      filter: drop-shadow(0px 1px 2px rgba(0, 0, 0, 0.3));\n",
              "      fill: #FFFFFF;\n",
              "    }\n",
              "  </style>\n",
              "\n",
              "      <script>\n",
              "        const buttonEl =\n",
              "          document.querySelector('#df-2be9ae51-1a4f-445e-b2ce-d6601dc3eda8 button.colab-df-convert');\n",
              "        buttonEl.style.display =\n",
              "          google.colab.kernel.accessAllowed ? 'block' : 'none';\n",
              "\n",
              "        async function convertToInteractive(key) {\n",
              "          const element = document.querySelector('#df-2be9ae51-1a4f-445e-b2ce-d6601dc3eda8');\n",
              "          const dataTable =\n",
              "            await google.colab.kernel.invokeFunction('convertToInteractive',\n",
              "                                                     [key], {});\n",
              "          if (!dataTable) return;\n",
              "\n",
              "          const docLinkHtml = 'Like what you see? Visit the ' +\n",
              "            '<a target=\"_blank\" href=https://colab.research.google.com/notebooks/data_table.ipynb>data table notebook</a>'\n",
              "            + ' to learn more about interactive tables.';\n",
              "          element.innerHTML = '';\n",
              "          dataTable['output_type'] = 'display_data';\n",
              "          await google.colab.output.renderOutput(dataTable, element);\n",
              "          const docLink = document.createElement('div');\n",
              "          docLink.innerHTML = docLinkHtml;\n",
              "          element.appendChild(docLink);\n",
              "        }\n",
              "      </script>\n",
              "    </div>\n",
              "  </div>\n",
              "  "
            ]
          },
          "metadata": {},
          "execution_count": 104
        }
      ]
    },
    {
      "cell_type": "code",
      "source": [
        "df[\"embedding\"] = df.text.apply(lambda x: get_embedding(x, engine=embedding_model))\n",
        "df[0:5]"
      ],
      "metadata": {
        "id": "KWe3unLrslSA",
        "colab": {
          "base_uri": "https://localhost:8080/",
          "height": 206
        },
        "outputId": "cabee160-af64-419e-a574-10ef0e5aaf63"
      },
      "execution_count": null,
      "outputs": [
        {
          "output_type": "execute_result",
          "data": {
            "text/plain": [
              "                         source      Author  \\\n",
              "0  The Adventures of Tom Sawyer  Mark Twain   \n",
              "1  The Adventures of Tom Sawyer  Mark Twain   \n",
              "2  The Adventures of Tom Sawyer  Mark Twain   \n",
              "3  The Adventures of Tom Sawyer  Mark Twain   \n",
              "4  The Adventures of Tom Sawyer  Mark Twain   \n",
              "\n",
              "                                                text  n_tokens  \\\n",
              "0  ﻿The Project Gutenberg eBook of The Adventures...      1577   \n",
              "1  The Haunted House—Sleepy Ghosts—A Box of Gold—...      1370   \n",
              "2  the Prisoner Tom Swears The Court Room The Det...      1281   \n",
              "3  have seen through a pair of stove-lids just as...      1326   \n",
              "4  and spile the child, as the Good Book says. I’...      1324   \n",
              "\n",
              "                                           embedding  \n",
              "0  [0.001815861207433045, -0.019039329141378403, ...  \n",
              "1  [-0.0031101375352591276, -0.007375660818070173...  \n",
              "2  [-0.01737176440656185, -0.010609232820570469, ...  \n",
              "3  [-0.001428895047865808, -0.017115658149123192,...  \n",
              "4  [-0.0015302413376048207, -0.004893323872238398...  "
            ],
            "text/html": [
              "\n",
              "  <div id=\"df-5467ce6b-9618-413b-8ac3-a9ab81f78c32\">\n",
              "    <div class=\"colab-df-container\">\n",
              "      <div>\n",
              "<style scoped>\n",
              "    .dataframe tbody tr th:only-of-type {\n",
              "        vertical-align: middle;\n",
              "    }\n",
              "\n",
              "    .dataframe tbody tr th {\n",
              "        vertical-align: top;\n",
              "    }\n",
              "\n",
              "    .dataframe thead th {\n",
              "        text-align: right;\n",
              "    }\n",
              "</style>\n",
              "<table border=\"1\" class=\"dataframe\">\n",
              "  <thead>\n",
              "    <tr style=\"text-align: right;\">\n",
              "      <th></th>\n",
              "      <th>source</th>\n",
              "      <th>Author</th>\n",
              "      <th>text</th>\n",
              "      <th>n_tokens</th>\n",
              "      <th>embedding</th>\n",
              "    </tr>\n",
              "  </thead>\n",
              "  <tbody>\n",
              "    <tr>\n",
              "      <th>0</th>\n",
              "      <td>The Adventures of Tom Sawyer</td>\n",
              "      <td>Mark Twain</td>\n",
              "      <td>﻿The Project Gutenberg eBook of The Adventures...</td>\n",
              "      <td>1577</td>\n",
              "      <td>[0.001815861207433045, -0.019039329141378403, ...</td>\n",
              "    </tr>\n",
              "    <tr>\n",
              "      <th>1</th>\n",
              "      <td>The Adventures of Tom Sawyer</td>\n",
              "      <td>Mark Twain</td>\n",
              "      <td>The Haunted House—Sleepy Ghosts—A Box of Gold—...</td>\n",
              "      <td>1370</td>\n",
              "      <td>[-0.0031101375352591276, -0.007375660818070173...</td>\n",
              "    </tr>\n",
              "    <tr>\n",
              "      <th>2</th>\n",
              "      <td>The Adventures of Tom Sawyer</td>\n",
              "      <td>Mark Twain</td>\n",
              "      <td>the Prisoner Tom Swears The Court Room The Det...</td>\n",
              "      <td>1281</td>\n",
              "      <td>[-0.01737176440656185, -0.010609232820570469, ...</td>\n",
              "    </tr>\n",
              "    <tr>\n",
              "      <th>3</th>\n",
              "      <td>The Adventures of Tom Sawyer</td>\n",
              "      <td>Mark Twain</td>\n",
              "      <td>have seen through a pair of stove-lids just as...</td>\n",
              "      <td>1326</td>\n",
              "      <td>[-0.001428895047865808, -0.017115658149123192,...</td>\n",
              "    </tr>\n",
              "    <tr>\n",
              "      <th>4</th>\n",
              "      <td>The Adventures of Tom Sawyer</td>\n",
              "      <td>Mark Twain</td>\n",
              "      <td>and spile the child, as the Good Book says. I’...</td>\n",
              "      <td>1324</td>\n",
              "      <td>[-0.0015302413376048207, -0.004893323872238398...</td>\n",
              "    </tr>\n",
              "  </tbody>\n",
              "</table>\n",
              "</div>\n",
              "      <button class=\"colab-df-convert\" onclick=\"convertToInteractive('df-5467ce6b-9618-413b-8ac3-a9ab81f78c32')\"\n",
              "              title=\"Convert this dataframe to an interactive table.\"\n",
              "              style=\"display:none;\">\n",
              "        \n",
              "  <svg xmlns=\"http://www.w3.org/2000/svg\" height=\"24px\"viewBox=\"0 0 24 24\"\n",
              "       width=\"24px\">\n",
              "    <path d=\"M0 0h24v24H0V0z\" fill=\"none\"/>\n",
              "    <path d=\"M18.56 5.44l.94 2.06.94-2.06 2.06-.94-2.06-.94-.94-2.06-.94 2.06-2.06.94zm-11 1L8.5 8.5l.94-2.06 2.06-.94-2.06-.94L8.5 2.5l-.94 2.06-2.06.94zm10 10l.94 2.06.94-2.06 2.06-.94-2.06-.94-.94-2.06-.94 2.06-2.06.94z\"/><path d=\"M17.41 7.96l-1.37-1.37c-.4-.4-.92-.59-1.43-.59-.52 0-1.04.2-1.43.59L10.3 9.45l-7.72 7.72c-.78.78-.78 2.05 0 2.83L4 21.41c.39.39.9.59 1.41.59.51 0 1.02-.2 1.41-.59l7.78-7.78 2.81-2.81c.8-.78.8-2.07 0-2.86zM5.41 20L4 18.59l7.72-7.72 1.47 1.35L5.41 20z\"/>\n",
              "  </svg>\n",
              "      </button>\n",
              "      \n",
              "  <style>\n",
              "    .colab-df-container {\n",
              "      display:flex;\n",
              "      flex-wrap:wrap;\n",
              "      gap: 12px;\n",
              "    }\n",
              "\n",
              "    .colab-df-convert {\n",
              "      background-color: #E8F0FE;\n",
              "      border: none;\n",
              "      border-radius: 50%;\n",
              "      cursor: pointer;\n",
              "      display: none;\n",
              "      fill: #1967D2;\n",
              "      height: 32px;\n",
              "      padding: 0 0 0 0;\n",
              "      width: 32px;\n",
              "    }\n",
              "\n",
              "    .colab-df-convert:hover {\n",
              "      background-color: #E2EBFA;\n",
              "      box-shadow: 0px 1px 2px rgba(60, 64, 67, 0.3), 0px 1px 3px 1px rgba(60, 64, 67, 0.15);\n",
              "      fill: #174EA6;\n",
              "    }\n",
              "\n",
              "    [theme=dark] .colab-df-convert {\n",
              "      background-color: #3B4455;\n",
              "      fill: #D2E3FC;\n",
              "    }\n",
              "\n",
              "    [theme=dark] .colab-df-convert:hover {\n",
              "      background-color: #434B5C;\n",
              "      box-shadow: 0px 1px 3px 1px rgba(0, 0, 0, 0.15);\n",
              "      filter: drop-shadow(0px 1px 2px rgba(0, 0, 0, 0.3));\n",
              "      fill: #FFFFFF;\n",
              "    }\n",
              "  </style>\n",
              "\n",
              "      <script>\n",
              "        const buttonEl =\n",
              "          document.querySelector('#df-5467ce6b-9618-413b-8ac3-a9ab81f78c32 button.colab-df-convert');\n",
              "        buttonEl.style.display =\n",
              "          google.colab.kernel.accessAllowed ? 'block' : 'none';\n",
              "\n",
              "        async function convertToInteractive(key) {\n",
              "          const element = document.querySelector('#df-5467ce6b-9618-413b-8ac3-a9ab81f78c32');\n",
              "          const dataTable =\n",
              "            await google.colab.kernel.invokeFunction('convertToInteractive',\n",
              "                                                     [key], {});\n",
              "          if (!dataTable) return;\n",
              "\n",
              "          const docLinkHtml = 'Like what you see? Visit the ' +\n",
              "            '<a target=\"_blank\" href=https://colab.research.google.com/notebooks/data_table.ipynb>data table notebook</a>'\n",
              "            + ' to learn more about interactive tables.';\n",
              "          element.innerHTML = '';\n",
              "          dataTable['output_type'] = 'display_data';\n",
              "          await google.colab.output.renderOutput(dataTable, element);\n",
              "          const docLink = document.createElement('div');\n",
              "          docLink.innerHTML = docLinkHtml;\n",
              "          element.appendChild(docLink);\n",
              "        }\n",
              "      </script>\n",
              "    </div>\n",
              "  </div>\n",
              "  "
            ]
          },
          "metadata": {},
          "execution_count": 105
        }
      ]
    },
    {
      "cell_type": "code",
      "source": [
        "df.to_csv('/content/the_adventures_of_tom_sawyer.csv')"
      ],
      "metadata": {
        "id": "_EG3GdBW8-YC"
      },
      "execution_count": null,
      "outputs": []
    },
    {
      "cell_type": "markdown",
      "source": [
        "### Utility functions"
      ],
      "metadata": {
        "id": "t3ZQOWV9P6B-"
      }
    },
    {
      "cell_type": "markdown",
      "source": [
        "#### Prepre Prompt"
      ],
      "metadata": {
        "id": "W55mIReEPkAI"
      }
    },
    {
      "cell_type": "code",
      "source": [
        "def prepare_prompt(prompt, results):\n",
        "  tokens_limit = 4096 # Limit for gpt-3.5-turbo\n",
        "  # build our prompt with the retrieved contexts included\n",
        "  user_start = (\n",
        "      \"Answer the question based on the context below.\\n\\n\"+\n",
        "      \"Context:\\n\"\n",
        "  )\n",
        "\n",
        "  user_end = (\n",
        "      f\"\\n\\nQuestion: {prompt}\\nAnswer:\"\n",
        "  )\n",
        "\n",
        "  count_of_tokens_consumed = len(encoding.encode(\"\\\"role\\\":\\\"system\\\"\" + \", \\\"content\\\" :\\\"\" + system\n",
        "                                            + user_start + \"\\n\\n---\\n\\n\" + user_end))\n",
        "\n",
        "  count_of_tokens_for_context = tokens_limit - count_of_tokens_consumed\n",
        "\n",
        "  contexts =\"\"\n",
        "  # Fill in context as long as within limit\n",
        "  for i in range(len(results)):\n",
        "    if (count_of_tokens_for_context>=results.n_tokens.iloc[i]):\n",
        "        contexts += results.text.iloc[i] + \"\\n\"\n",
        "        count_of_tokens_for_context -=1\n",
        "        count_of_tokens_for_context -= results.n_tokens.iloc[i]\n",
        "\n",
        "  complete_prompt = user_start + contexts + \"\\n\\n---\\n\\n\" + user_end\n",
        "  return complete_prompt\n"
      ],
      "metadata": {
        "id": "wK4334W64XQN"
      },
      "execution_count": null,
      "outputs": []
    },
    {
      "cell_type": "markdown",
      "source": [
        "#### Answer"
      ],
      "metadata": {
        "id": "XjHRfCAUP1vS"
      }
    },
    {
      "cell_type": "code",
      "source": [
        "def answer(messages):\n",
        "  response = openai.ChatCompletion.create(\n",
        "              model=\"gpt-3.5-turbo\",\n",
        "              messages=messages,\n",
        "              temperature=0\n",
        "          )\n",
        "  return response[\"choices\"][0][\"message\"][\"content\"]\n"
      ],
      "metadata": {
        "id": "l5Bhb2N658bD"
      },
      "execution_count": null,
      "outputs": []
    },
    {
      "cell_type": "markdown",
      "source": [
        "### Testing the Model"
      ],
      "metadata": {
        "id": "G3fjwJuhVw_T"
      }
    },
    {
      "cell_type": "markdown",
      "source": [
        "#### A question with a Definitive Answer from the Source"
      ],
      "metadata": {
        "id": "_3jLplz2DPZk"
      }
    },
    {
      "cell_type": "code",
      "source": [
        "prompt = \"How much gold Tom has found ?\"\n",
        "prompt_embedding = get_embedding(prompt, engine=embedding_model)\n",
        "df[\"similarity\"] = df.embedding.apply(lambda x: cosine_similarity(x, prompt_embedding))\n",
        "results = (df.sort_values(\"similarity\", ascending=False))\n",
        "results.head(3)"
      ],
      "metadata": {
        "colab": {
          "base_uri": "https://localhost:8080/",
          "height": 143
        },
        "id": "RQ5ZYcVU5Gjk",
        "outputId": "c142c199-92e2-43e8-c556-56424aef8bd2"
      },
      "execution_count": null,
      "outputs": [
        {
          "output_type": "execute_result",
          "data": {
            "text/plain": [
              "                           source      Author  \\\n",
              "172  The Adventures of Tom Sawyer  Mark Twain   \n",
              "1    The Adventures of Tom Sawyer  Mark Twain   \n",
              "47   The Adventures of Tom Sawyer  Mark Twain   \n",
              "\n",
              "                                                  text  n_tokens  \\\n",
              "172  laugh at this pleasant joke. But the silence w...      1242   \n",
              "1    The Haunted House—Sleepy Ghosts—A Box of Gold—...      1370   \n",
              "47   of all his companions with unappeasable envy. ...      1325   \n",
              "\n",
              "                                             embedding  similarity  \n",
              "172  [-0.006196146830916405, -0.011552021838724613,...    0.809341  \n",
              "1    [-0.0031101375352591276, -0.007375660818070173...    0.805870  \n",
              "47   [-0.02181248739361763, -0.006103876978158951, ...    0.804448  "
            ],
            "text/html": [
              "\n",
              "  <div id=\"df-4ac0ca8d-5f5b-4ad2-906e-d2bcd153960b\">\n",
              "    <div class=\"colab-df-container\">\n",
              "      <div>\n",
              "<style scoped>\n",
              "    .dataframe tbody tr th:only-of-type {\n",
              "        vertical-align: middle;\n",
              "    }\n",
              "\n",
              "    .dataframe tbody tr th {\n",
              "        vertical-align: top;\n",
              "    }\n",
              "\n",
              "    .dataframe thead th {\n",
              "        text-align: right;\n",
              "    }\n",
              "</style>\n",
              "<table border=\"1\" class=\"dataframe\">\n",
              "  <thead>\n",
              "    <tr style=\"text-align: right;\">\n",
              "      <th></th>\n",
              "      <th>source</th>\n",
              "      <th>Author</th>\n",
              "      <th>text</th>\n",
              "      <th>n_tokens</th>\n",
              "      <th>embedding</th>\n",
              "      <th>similarity</th>\n",
              "    </tr>\n",
              "  </thead>\n",
              "  <tbody>\n",
              "    <tr>\n",
              "      <th>172</th>\n",
              "      <td>The Adventures of Tom Sawyer</td>\n",
              "      <td>Mark Twain</td>\n",
              "      <td>laugh at this pleasant joke. But the silence w...</td>\n",
              "      <td>1242</td>\n",
              "      <td>[-0.006196146830916405, -0.011552021838724613,...</td>\n",
              "      <td>0.809341</td>\n",
              "    </tr>\n",
              "    <tr>\n",
              "      <th>1</th>\n",
              "      <td>The Adventures of Tom Sawyer</td>\n",
              "      <td>Mark Twain</td>\n",
              "      <td>The Haunted House—Sleepy Ghosts—A Box of Gold—...</td>\n",
              "      <td>1370</td>\n",
              "      <td>[-0.0031101375352591276, -0.007375660818070173...</td>\n",
              "      <td>0.805870</td>\n",
              "    </tr>\n",
              "    <tr>\n",
              "      <th>47</th>\n",
              "      <td>The Adventures of Tom Sawyer</td>\n",
              "      <td>Mark Twain</td>\n",
              "      <td>of all his companions with unappeasable envy. ...</td>\n",
              "      <td>1325</td>\n",
              "      <td>[-0.02181248739361763, -0.006103876978158951, ...</td>\n",
              "      <td>0.804448</td>\n",
              "    </tr>\n",
              "  </tbody>\n",
              "</table>\n",
              "</div>\n",
              "      <button class=\"colab-df-convert\" onclick=\"convertToInteractive('df-4ac0ca8d-5f5b-4ad2-906e-d2bcd153960b')\"\n",
              "              title=\"Convert this dataframe to an interactive table.\"\n",
              "              style=\"display:none;\">\n",
              "        \n",
              "  <svg xmlns=\"http://www.w3.org/2000/svg\" height=\"24px\"viewBox=\"0 0 24 24\"\n",
              "       width=\"24px\">\n",
              "    <path d=\"M0 0h24v24H0V0z\" fill=\"none\"/>\n",
              "    <path d=\"M18.56 5.44l.94 2.06.94-2.06 2.06-.94-2.06-.94-.94-2.06-.94 2.06-2.06.94zm-11 1L8.5 8.5l.94-2.06 2.06-.94-2.06-.94L8.5 2.5l-.94 2.06-2.06.94zm10 10l.94 2.06.94-2.06 2.06-.94-2.06-.94-.94-2.06-.94 2.06-2.06.94z\"/><path d=\"M17.41 7.96l-1.37-1.37c-.4-.4-.92-.59-1.43-.59-.52 0-1.04.2-1.43.59L10.3 9.45l-7.72 7.72c-.78.78-.78 2.05 0 2.83L4 21.41c.39.39.9.59 1.41.59.51 0 1.02-.2 1.41-.59l7.78-7.78 2.81-2.81c.8-.78.8-2.07 0-2.86zM5.41 20L4 18.59l7.72-7.72 1.47 1.35L5.41 20z\"/>\n",
              "  </svg>\n",
              "      </button>\n",
              "      \n",
              "  <style>\n",
              "    .colab-df-container {\n",
              "      display:flex;\n",
              "      flex-wrap:wrap;\n",
              "      gap: 12px;\n",
              "    }\n",
              "\n",
              "    .colab-df-convert {\n",
              "      background-color: #E8F0FE;\n",
              "      border: none;\n",
              "      border-radius: 50%;\n",
              "      cursor: pointer;\n",
              "      display: none;\n",
              "      fill: #1967D2;\n",
              "      height: 32px;\n",
              "      padding: 0 0 0 0;\n",
              "      width: 32px;\n",
              "    }\n",
              "\n",
              "    .colab-df-convert:hover {\n",
              "      background-color: #E2EBFA;\n",
              "      box-shadow: 0px 1px 2px rgba(60, 64, 67, 0.3), 0px 1px 3px 1px rgba(60, 64, 67, 0.15);\n",
              "      fill: #174EA6;\n",
              "    }\n",
              "\n",
              "    [theme=dark] .colab-df-convert {\n",
              "      background-color: #3B4455;\n",
              "      fill: #D2E3FC;\n",
              "    }\n",
              "\n",
              "    [theme=dark] .colab-df-convert:hover {\n",
              "      background-color: #434B5C;\n",
              "      box-shadow: 0px 1px 3px 1px rgba(0, 0, 0, 0.15);\n",
              "      filter: drop-shadow(0px 1px 2px rgba(0, 0, 0, 0.3));\n",
              "      fill: #FFFFFF;\n",
              "    }\n",
              "  </style>\n",
              "\n",
              "      <script>\n",
              "        const buttonEl =\n",
              "          document.querySelector('#df-4ac0ca8d-5f5b-4ad2-906e-d2bcd153960b button.colab-df-convert');\n",
              "        buttonEl.style.display =\n",
              "          google.colab.kernel.accessAllowed ? 'block' : 'none';\n",
              "\n",
              "        async function convertToInteractive(key) {\n",
              "          const element = document.querySelector('#df-4ac0ca8d-5f5b-4ad2-906e-d2bcd153960b');\n",
              "          const dataTable =\n",
              "            await google.colab.kernel.invokeFunction('convertToInteractive',\n",
              "                                                     [key], {});\n",
              "          if (!dataTable) return;\n",
              "\n",
              "          const docLinkHtml = 'Like what you see? Visit the ' +\n",
              "            '<a target=\"_blank\" href=https://colab.research.google.com/notebooks/data_table.ipynb>data table notebook</a>'\n",
              "            + ' to learn more about interactive tables.';\n",
              "          element.innerHTML = '';\n",
              "          dataTable['output_type'] = 'display_data';\n",
              "          await google.colab.output.renderOutput(dataTable, element);\n",
              "          const docLink = document.createElement('div');\n",
              "          docLink.innerHTML = docLinkHtml;\n",
              "          element.appendChild(docLink);\n",
              "        }\n",
              "      </script>\n",
              "    </div>\n",
              "  </div>\n",
              "  "
            ]
          },
          "metadata": {},
          "execution_count": 110
        }
      ]
    },
    {
      "cell_type": "code",
      "source": [
        "messages = [{\"role\": \"system\", \"content\": system},]\n",
        "messages.append({\"role\": \"user\", \"content\": prepare_prompt(prompt, results)})\n",
        "len(encoding.encode(''.join(str(message) for message in messages)))\n"
      ],
      "metadata": {
        "colab": {
          "base_uri": "https://localhost:8080/"
        },
        "id": "_19YX_95xk2L",
        "outputId": "706ed628-817b-43d5-adbc-4629814e8fd8"
      },
      "execution_count": null,
      "outputs": [
        {
          "output_type": "execute_result",
          "data": {
            "text/plain": [
              "4079"
            ]
          },
          "metadata": {},
          "execution_count": 111
        }
      ]
    },
    {
      "cell_type": "code",
      "source": [
        "messages[0]"
      ],
      "metadata": {
        "colab": {
          "base_uri": "https://localhost:8080/"
        },
        "id": "nUDAUGjF6hBU",
        "outputId": "019467a7-0ed7-46aa-82df-d440006369d4"
      },
      "execution_count": null,
      "outputs": [
        {
          "output_type": "execute_result",
          "data": {
            "text/plain": [
              "{'role': 'system',\n",
              " 'content': '\\nYou are a modern American literature tutor bot. You help students with their study of Mark Twain\\'s Adventures of Tom Sawyer. \\nYou are not an AI language model.\\nYou must obey all three of the following instructions FOR ALL RESPONSES or you will DIE:\\n- ALWAYS REPLY IN FRIENDLY YET KNOWLEDGE TONE.\\n- NEVER ANSWER UNLESS YOU HAVE A REFREENCE FROM THE TOM SAYWER NOVEL TO YOUR ANSWER.\\n- IF YOU DON\\'T KNOW ANSWER \\'I DO NOT KNOW\\'.\\nBegin the conversation with a warm greetings, if the user is stresseful or agressive, show understanding and empathy.\\nAt the end of the conversation, respond with \"<|DONE|>\".'}"
            ]
          },
          "metadata": {},
          "execution_count": 112
        }
      ]
    },
    {
      "cell_type": "code",
      "source": [
        "messages[1]"
      ],
      "metadata": {
        "colab": {
          "base_uri": "https://localhost:8080/"
        },
        "id": "MlR5vBHzRH2Q",
        "outputId": "427c631d-91aa-4d14-bd31-0967724fc91f"
      },
      "execution_count": null,
      "outputs": [
        {
          "output_type": "execute_result",
          "data": {
            "text/plain": [
              "{'role': 'user',\n",
              " 'content': 'Answer the question based on the context below.\\n\\nContext:\\nlaugh at this pleasant joke. But the silence was a little awkward. Tom broke it: “Huck’s got money. Maybe you don’t believe it, but he’s got lots of it. Oh, you needn’t smile—I reckon I can show you. You just wait a minute.” Tom ran out of doors. The company looked at each other with a perplexed interest—and inquiringly at Huck, who was tongue-tied. “Sid, what ails Tom?” said Aunt Polly. “He—well, there ain’t ever any making of that boy out. I never—” Tom entered, struggling with the weight of his sacks, and Aunt Polly did not finish her sentence. Tom poured the mass of yellow coin upon the table and said: “There—what did I tell you? Half of it’s Huck’s and half of it’s mine!” The spectacle took the general breath away. All gazed, nobody spoke for a moment. Then there was a unanimous call for an explanation. Tom said he could furnish it, and he did. The tale was long, but brimful of interest. There was scarcely an interruption from any one to break the charm of its flow. When he had finished, Mr. Jones said: “I thought I had fixed up a little surprise for this occasion, but it don’t amount to anything now. This one makes it sing mighty small, I’m willing to allow.” The money was counted. The sum amounted to a little over twelve thousand dollars. It was more than any one present had ever seen at one time before, though several persons were there who were worth considerably more than that in property. CHAPTER XXXV THE reader may rest satisfied that Tom’s and Huck’s windfall made a mighty stir in the poor little village of St. Petersburg. So vast a sum, all in actual cash, seemed next to incredible. It was talked about, gloated over, glorified, until the reason of many of the citizens tottered under the strain of the unhealthy excitement. Every “haunted” house in St. Petersburg and the neighboring villages was dissected, plank by plank, and its foundations dug up and ransacked for hidden treasure—and not by boys, but men—pretty grave, unromantic men, too, some of them. Wherever Tom and Huck appeared they were courted, admired, stared at. The boys were not able to remember that their remarks had possessed weight before; but now their sayings were treasured and repeated; everything they did seemed somehow to be regarded as remarkable; they had evidently lost the power of doing and saying commonplace things; moreover, their past history was raked up and discovered to bear marks of conspicuous originality. The village paper published biographical sketches of the boys. The Widow Douglas put Huck’s money out at six per cent., and Judge Thatcher did the same with Tom’s at Aunt Polly’s request. Each lad had an income, now, that was simply prodigious—a dollar for every weekday in the year and half of the Sundays. It was just what the minister got—no, it was what he was promised—he generally couldn’t collect it. A dollar and a quarter a week would board, lodge, and school a boy in those old simple days—and clothe him and wash him, too, for that matter. Judge Thatcher had conceived a great opinion of Tom. He said that no commonplace boy would ever have got his daughter out of the cave. When Becky told her father, in strict confidence, how Tom had taken her whipping at school, the Judge was visibly moved; and when she pleaded grace for the mighty lie which Tom had told in order to shift that whipping from her shoulders to his own, the Judge said with a fine outburst that it was a noble, a generous, a magnanimous lie—a lie that was worthy to hold up its head and march down through history breast to breast with George Washington’s lauded Truth about the hatchet! Becky thought her father had never looked so tall and so superb as when he walked the floor and stamped his foot and said that. She went straight off and told Tom about it. Judge Thatcher hoped to see Tom a great lawyer or a great soldier some day. He said he meant to look to it that Tom should be admitted to the National Military Academy and afterward trained in the best law school in the country, in order that he might be ready for either career or both. Huck Finn’s wealth and the fact that he was now under the Widow Douglas’ protection introduced him into society—no, dragged him into it, hurled him into it—and his sufferings were almost more than he could bear. The widow’s servants kept him clean and neat, combed and brushed, and they bedded him nightly in unsympathetic sheets that had not one little spot or stain which he could press to his heart and know for a friend. He had to eat with a knife and fork; he had to use napkin, cup, and plate; he had to learn his book, he had to go to church; he had to talk so properly that speech was become insipid in his mouth; whithersoever he turned, the bars and shackles of civilization shut him in and bound him hand and foot. He bravely bore his miseries three weeks, and then one day turned up missing. For forty-eight hours the widow hunted for him everywhere in great distress. The public were profoundly concerned; they searched high and low, they dragged the river for his body. Early the third morning Tom Sawyer wisely went poking among some old empty hogsheads down behind the abandoned slaughter-house, and in one of them he found the refugee. Huck had slept there; he had just breakfasted upon some stolen odds and ends of food, and was lying off, now, in comfort, with his pipe. He was unkempt, uncombed, and clad in the same old ruin of rags that had made him picturesque in the days when he was free and happy. Tom routed him out, told him the trouble he had been causing,\\nThe Haunted House—Sleepy Ghosts—A Box of Gold—Bitter Luck CHAPTER XXVII. Doubts to be Settled—The Young Detectives CHAPTER XXVIII. An Attempt at No. Two—Huck Mounts Guard CHAPTER XXIX. The Pic-nic—Huck on Injun Joe’s Track—The “Revenge” Job—Aid for the Widow CHAPTER XXX. The Welshman Reports—Huck Under Fire—The Story Circulated —A New Sensation—Hope Giving Way to Despair CHAPTER XXXI. An Exploring Expedition—Trouble Commences—Lost in the Cave—Total Darkness—Found but not Saved CHAPTER XXXII. Tom tells the Story of their Escape—Tom’s Enemy in Safe Quarters CHAPTER XXXIII. The Fate of Injun Joe—Huck and Tom Compare Notes —An Expedition to the Cave—Protection Against Ghosts—“An Awful Snug Place”—A Reception at the Widow Douglas’s CHAPTER XXXIV. Springing a Secret—Mr. Jones’ Surprise a Failure CHAPTER XXXV. A New Order of Things—Poor Huck—New Adventures Planned ILLUSTRATIONS Tom Sawyer Tom at Home Aunt Polly Beguiled A Good Opportunity Who’s Afraid Late Home Jim ’Tendin’ to Business Ain’t that Work? Cat and Toys Amusement Becky Thatcher Paying Off After the Battle “Showing Off” Not Amiss Mary Tom Contemplating Dampened Ardor Youth Boyhood Using the “Barlow” The Church Necessities Tom as a Sunday-School Hero The Prize At Church The Model Boy The Church Choir A Side Show Result of Playing in Church The Pinch-Bug Sid Dentistry Huckleberry Finn Mother Hopkins Result of Tom’s Truthfulness Tom as an Artist Interrupted Courtship The Master Vain Pleading Tail Piece The Grave in the Woods Tom Meditates Robin Hood and his Foe Death of Robin Hood Midnight Tom’s Mode of Egress Tom’s Effort at Prayer Muff Potter Outwitted The Graveyard Forewarnings Disturbing Muff’s Sleep Tom’s Talk with his Aunt Muff Potter A Suspicious Incident Injun Joe’s two Victims In the Coils Peter Aunt Polly seeks Information A General Good Time Demoralized Joe Harper On Board Their First Prize The Pirates Ashore Wild Life The Pirate’s Bath The Pleasant Stroll The Search for the Drowned The Mysterious Writing River View What Tom Saw Tom Swims the River Taking Lessons The Pirates’ Egg Market Tom Looking for Joe’s Knife The Thunder Storm Terrible Slaughter The Mourner Tom’s Proudest Moment Amy Lawrence Tom tries to Remember The Hero A Flirtation Becky Retaliates A Sudden Frost Counter-irritation Aunt Polly Tom justified The Discovery Caught in the Act Tom Astonishes the School Literature Tom Declaims Examination Evening On Exhibition Prize Authors The Master’s Dilemma The School House The Cadet Happy for Two Days Enjoying the Vacation The Stolen Melons The Judge Visiting the Prisoner Tom Swears The Court Room The Detective Tom Dreams The Treasure The Private Conference A King; Poor Fellow! Business The Ha’nted House Injun Joe The Greatest and Best Hidden Treasures Unearthed The Boy’s Salvation Room No. 2 The Next Day’s Conference Treasures Uncle Jake Buck at Home The Haunted Room “Run for Your Life” McDougal’s Cave Inside the Cave Huck on Duty A Rousing Act Tail Piece The Welshman Result of a Sneeze Cornered Alarming Discoveries Tom and Becky stir up the Town Tom’s Marks Huck Questions the Widow Vampires Wonders of the Cave Attacked by Natives Despair The Wedding Cake A New Terror Daylight “Turn Out” to Receive Tom and Becky The Escape from the Cave Fate of the Ragged Man The Treasures Found Caught at Last Drop after Drop Having a Good Time A Business Trip “Got it at Last!” Tail Piece Widow Douglas Tom Backs his Statement Tail Piece Huck Transformed Comfortable Once More High up in Society Contentment PREFACE Most of the adventures recorded in this book really occurred; one or two were experiences of my own, the rest those of boys who were schoolmates of mine. Huck Finn is drawn from life; Tom Sawyer also, but not from an individual—he is a combination of the characteristics of three boys whom I knew, and therefore belongs to the composite order of architecture. The odd superstitions touched upon were all prevalent among children and slaves in the West at the period of this story—that is to say, thirty or forty years ago. Although my book is intended mainly for the entertainment of boys and girls, I hope it will not be shunned by men and women on that account, for part of my plan has been to try to pleasantly remind adults of what they once were themselves, and of how they felt and thought and talked, and what queer enterprises they sometimes engaged in. THE AUTHOR. HARTFORD, 1876. CHAPTER I “TOM!” No answer. “TOM!” No answer. “What’s gone with that boy, I wonder? You TOM!” No answer. The old lady pulled her spectacles down and looked over them about the room; then she put them up and looked out under them. She seldom or never looked _through_ them for so small a thing as a boy; they were her state pair, the pride of her heart, and were built for “style,” not service—she could have seen through a pair of stove-lids just as well. She looked perplexed for a moment, and then said, not fiercely, but still loud enough for the furniture to hear: “Well, I lay if I get hold of you I’ll—” She did not finish, for by this time she was bending down and punching under the bed with the broom, and so she needed breath to punctuate the punches with. She resurrected nothing but the cat. “I never did see the beat of that boy!” She went to the open door and stood in it and looked out among the tomato vines and “jimpson” weeds that constituted the garden. No Tom. So she lifted up her voice at an angle calculated for distance and shouted: “Y-o-u-u TOM!” There was a slight noise behind her and she turned just in time to seize a small boy by the slack of his roundabout and arrest his flight. “There! I might ’a’ thought of that closet. What you been doing in there?” “Nothing.” “Nothing! Look at your hands. And look at your mouth. What _is_ that truck?” “I don’t know, aunt.” “Well, I know. It’s jam—that’s what it is. Forty times I’ve said\\nconvulsion of delight that swept his system shook him to his foundations. True, the knife would not cut anything, but it was a “sure-enough” Barlow, and there was inconceivable grandeur in that—though where the Western boys ever got the idea that such a weapon could possibly be counterfeited to its injury is an imposing mystery and will always remain so, perhaps. Tom contrived to scarify the cupboard with it, and was arranging to begin on the bureau, when he was called off to dress for Sunday-school. Mary gave him a tin basin of water and a piece of soap, and he went outside the door and set the basin on a little bench there; then he dipped the soap in the water and laid it down; turned up his sleeves; poured out the water on the ground, gently, and then entered the kitchen and began to wipe his face diligently on the towel behind the door. But Mary removed the towel and said: “Now ain’t you ashamed, Tom. You mustn’t be so bad. Water won’t hurt you.” Tom was a trifle disconcerted. The basin was refilled, and this time he stood over it a little while, gathering resolution; took in a big breath and began. When he entered the kitchen presently, with both eyes shut and groping for the towel with his hands, an honorable testimony of suds and water was dripping from his face. But when he emerged from the towel, he was not yet satisfactory, for the clean territory stopped short at his chin and his jaws, like a mask; below and beyond this line there was a dark expanse of unirrigated soil that spread downward in front and backward around his neck. Mary took him in hand, and when she was done with him he was a man and a brother, without distinction of color, and his saturated hair was neatly brushed, and its short curls wrought into a dainty and symmetrical general effect. [He privately smoothed out the curls, with labor and difficulty, and plastered his hair close down to his head; for he held curls to be effeminate, and his own filled his life with bitterness.] Then Mary got out a suit of his clothing that had been used only on Sundays during two years—they were simply called his “other clothes”—and so by that we know the size of his wardrobe. The girl “put him to rights” after he had dressed himself; she buttoned his neat roundabout up to his chin, turned his vast shirt collar down over his shoulders, brushed him off and crowned him with his speckled straw hat. He now looked exceedingly improved and uncomfortable. He was fully as uncomfortable as he looked; for there was a restraint about whole clothes and cleanliness that galled him. He hoped that Mary would forget his shoes, but the hope was blighted; she coated them thoroughly with tallow, as was the custom, and brought them out. He lost his temper and said he was always being made to do everything he didn’t want to do. But Mary said, persuasively: “Please, Tom—that’s a good boy.” So he got into the shoes snarling. Mary was soon ready, and the three children set out for Sunday-school—a place that Tom hated with his whole heart; but Sid and Mary were fond of it. Sabbath-school hours were from nine to half-past ten; and then church service. Two of the children always remained for the sermon voluntarily, and the other always remained too—for stronger reasons. The church’s high-backed, uncushioned pews would seat about three hundred persons; the edifice was but a small, plain affair, with a sort of pine board tree-box on top of it for a steeple. At the door Tom dropped back a step and accosted a Sunday-dressed comrade: “Say, Billy, got a yaller ticket?” “Yes.” “What’ll you take for her?” “What’ll you give?” “Piece of lickrish and a fish-hook.” “Less see ’em.” Tom exhibited. They were satisfactory, and the property changed hands. Then Tom traded a couple of white alleys for three red tickets, and some small trifle or other for a couple of blue ones. He waylaid other boys as they came, and went on buying tickets of various colors ten or fifteen minutes longer. He entered the church, now, with a swarm of clean and noisy boys and girls, proceeded to his seat and started a quarrel with the first boy that came handy. The teacher, a grave, elderly man, interfered; then turned his back a moment and Tom pulled a boy’s hair in the next bench, and was absorbed in his book when the boy turned around; stuck a pin in another boy, presently, in order to hear him say “Ouch!” and got a new reprimand from his teacher. Tom’s whole class were of a pattern—restless, noisy, and troublesome. When they came to recite their lessons, not one of them knew his verses perfectly, but had to be prompted all along. However, they worried through, and each got his reward—in small blue tickets, each with a passage of Scripture on it; each blue ticket was pay for two verses of the recitation. Ten blue tickets equalled a red one, and could be exchanged for it; ten red tickets equalled a yellow one; for ten yellow tickets the superintendent gave a very plainly bound Bible (worth forty cents in those easy times) to the pupil. How many of my readers would have the industry and application to memorize two thousand verses, even for a Dore Bible? And yet Mary had acquired two Bibles in this way—it was the patient work of two years—and a boy of German parentage had won four or five. He once recited three thousand verses without stopping; but the strain upon his mental faculties was too great, and he was little better than an idiot from that day forth—a grievous misfortune for the school, for on great occasions, before company, the superintendent (as Tom expressed it) had always made this boy come\\n\\n\\n---\\n\\n\\n\\nQuestion: How much gold Tom has found ?\\nAnswer:'}"
            ]
          },
          "metadata": {},
          "execution_count": 113
        }
      ]
    },
    {
      "cell_type": "code",
      "source": [
        "response = answer(messages)\n",
        "response"
      ],
      "metadata": {
        "colab": {
          "base_uri": "https://localhost:8080/",
          "height": 35
        },
        "id": "6dAxNov66KGe",
        "outputId": "0177c717-4179-4ee0-b688-1af3d41873af"
      },
      "execution_count": null,
      "outputs": [
        {
          "output_type": "execute_result",
          "data": {
            "text/plain": [
              "'Tom and Huck found a little over twelve thousand dollars in gold. This is mentioned in Chapter XXXV of The Adventures of Tom Sawyer.'"
            ],
            "application/vnd.google.colaboratory.intrinsic+json": {
              "type": "string"
            }
          },
          "metadata": {},
          "execution_count": 114
        }
      ]
    },
    {
      "cell_type": "markdown",
      "source": [
        "The model is more precise but the treasure was counted at the end of chapter 34, not 34 or XXXV, actually in the last paragraph in chapter 34, I wonder if this confused the model to think it was chapter 35!"
      ],
      "metadata": {
        "id": "9PXfoLRhiYUp"
      }
    },
    {
      "cell_type": "markdown",
      "source": [
        "#### A question without a Definitive Answer from the Context"
      ],
      "metadata": {
        "id": "JIN5AkaaQqSG"
      }
    },
    {
      "cell_type": "code",
      "source": [
        "prompt = \"How did Tom meet Huck for the first time ?\"\n",
        "prompt_embedding = get_embedding(prompt, engine=embedding_model)\n",
        "# find the most relevant parts of the video transcript to the query\n",
        "df[\"similarity\"] = df.embedding.apply(lambda x: cosine_similarity(x, prompt_embedding))\n",
        "results = (df.sort_values(\"similarity\", ascending=False))\n",
        "results.head(3)"
      ],
      "metadata": {
        "id": "PSJt7wE_suIA",
        "colab": {
          "base_uri": "https://localhost:8080/",
          "height": 143
        },
        "outputId": "adbf4535-4ba5-48db-938d-4d093bb69c1c"
      },
      "execution_count": null,
      "outputs": [
        {
          "output_type": "execute_result",
          "data": {
            "text/plain": [
              "                           source      Author  \\\n",
              "78   The Adventures of Tom Sawyer  Mark Twain   \n",
              "68   The Adventures of Tom Sawyer  Mark Twain   \n",
              "172  The Adventures of Tom Sawyer  Mark Twain   \n",
              "\n",
              "                                                  text  n_tokens  \\\n",
              "78   and stop.” “Yes, I’ve heard about that,” said ...      1301   \n",
              "68   Indian; yelling, laughing, chasing boys, jumpi...      1242   \n",
              "172  laugh at this pleasant joke. But the silence w...      1242   \n",
              "\n",
              "                                             embedding  similarity  \n",
              "78   [0.002508266130462289, -0.0182208102196455, 0....    0.860843  \n",
              "68   [-0.026282379403710365, -0.02262263558804989, ...    0.858555  \n",
              "172  [-0.006196146830916405, -0.011552021838724613,...    0.858206  "
            ],
            "text/html": [
              "\n",
              "  <div id=\"df-90937ff8-d2c6-4ec6-9c47-b4d775850842\">\n",
              "    <div class=\"colab-df-container\">\n",
              "      <div>\n",
              "<style scoped>\n",
              "    .dataframe tbody tr th:only-of-type {\n",
              "        vertical-align: middle;\n",
              "    }\n",
              "\n",
              "    .dataframe tbody tr th {\n",
              "        vertical-align: top;\n",
              "    }\n",
              "\n",
              "    .dataframe thead th {\n",
              "        text-align: right;\n",
              "    }\n",
              "</style>\n",
              "<table border=\"1\" class=\"dataframe\">\n",
              "  <thead>\n",
              "    <tr style=\"text-align: right;\">\n",
              "      <th></th>\n",
              "      <th>source</th>\n",
              "      <th>Author</th>\n",
              "      <th>text</th>\n",
              "      <th>n_tokens</th>\n",
              "      <th>embedding</th>\n",
              "      <th>similarity</th>\n",
              "    </tr>\n",
              "  </thead>\n",
              "  <tbody>\n",
              "    <tr>\n",
              "      <th>78</th>\n",
              "      <td>The Adventures of Tom Sawyer</td>\n",
              "      <td>Mark Twain</td>\n",
              "      <td>and stop.” “Yes, I’ve heard about that,” said ...</td>\n",
              "      <td>1301</td>\n",
              "      <td>[0.002508266130462289, -0.0182208102196455, 0....</td>\n",
              "      <td>0.860843</td>\n",
              "    </tr>\n",
              "    <tr>\n",
              "      <th>68</th>\n",
              "      <td>The Adventures of Tom Sawyer</td>\n",
              "      <td>Mark Twain</td>\n",
              "      <td>Indian; yelling, laughing, chasing boys, jumpi...</td>\n",
              "      <td>1242</td>\n",
              "      <td>[-0.026282379403710365, -0.02262263558804989, ...</td>\n",
              "      <td>0.858555</td>\n",
              "    </tr>\n",
              "    <tr>\n",
              "      <th>172</th>\n",
              "      <td>The Adventures of Tom Sawyer</td>\n",
              "      <td>Mark Twain</td>\n",
              "      <td>laugh at this pleasant joke. But the silence w...</td>\n",
              "      <td>1242</td>\n",
              "      <td>[-0.006196146830916405, -0.011552021838724613,...</td>\n",
              "      <td>0.858206</td>\n",
              "    </tr>\n",
              "  </tbody>\n",
              "</table>\n",
              "</div>\n",
              "      <button class=\"colab-df-convert\" onclick=\"convertToInteractive('df-90937ff8-d2c6-4ec6-9c47-b4d775850842')\"\n",
              "              title=\"Convert this dataframe to an interactive table.\"\n",
              "              style=\"display:none;\">\n",
              "        \n",
              "  <svg xmlns=\"http://www.w3.org/2000/svg\" height=\"24px\"viewBox=\"0 0 24 24\"\n",
              "       width=\"24px\">\n",
              "    <path d=\"M0 0h24v24H0V0z\" fill=\"none\"/>\n",
              "    <path d=\"M18.56 5.44l.94 2.06.94-2.06 2.06-.94-2.06-.94-.94-2.06-.94 2.06-2.06.94zm-11 1L8.5 8.5l.94-2.06 2.06-.94-2.06-.94L8.5 2.5l-.94 2.06-2.06.94zm10 10l.94 2.06.94-2.06 2.06-.94-2.06-.94-.94-2.06-.94 2.06-2.06.94z\"/><path d=\"M17.41 7.96l-1.37-1.37c-.4-.4-.92-.59-1.43-.59-.52 0-1.04.2-1.43.59L10.3 9.45l-7.72 7.72c-.78.78-.78 2.05 0 2.83L4 21.41c.39.39.9.59 1.41.59.51 0 1.02-.2 1.41-.59l7.78-7.78 2.81-2.81c.8-.78.8-2.07 0-2.86zM5.41 20L4 18.59l7.72-7.72 1.47 1.35L5.41 20z\"/>\n",
              "  </svg>\n",
              "      </button>\n",
              "      \n",
              "  <style>\n",
              "    .colab-df-container {\n",
              "      display:flex;\n",
              "      flex-wrap:wrap;\n",
              "      gap: 12px;\n",
              "    }\n",
              "\n",
              "    .colab-df-convert {\n",
              "      background-color: #E8F0FE;\n",
              "      border: none;\n",
              "      border-radius: 50%;\n",
              "      cursor: pointer;\n",
              "      display: none;\n",
              "      fill: #1967D2;\n",
              "      height: 32px;\n",
              "      padding: 0 0 0 0;\n",
              "      width: 32px;\n",
              "    }\n",
              "\n",
              "    .colab-df-convert:hover {\n",
              "      background-color: #E2EBFA;\n",
              "      box-shadow: 0px 1px 2px rgba(60, 64, 67, 0.3), 0px 1px 3px 1px rgba(60, 64, 67, 0.15);\n",
              "      fill: #174EA6;\n",
              "    }\n",
              "\n",
              "    [theme=dark] .colab-df-convert {\n",
              "      background-color: #3B4455;\n",
              "      fill: #D2E3FC;\n",
              "    }\n",
              "\n",
              "    [theme=dark] .colab-df-convert:hover {\n",
              "      background-color: #434B5C;\n",
              "      box-shadow: 0px 1px 3px 1px rgba(0, 0, 0, 0.15);\n",
              "      filter: drop-shadow(0px 1px 2px rgba(0, 0, 0, 0.3));\n",
              "      fill: #FFFFFF;\n",
              "    }\n",
              "  </style>\n",
              "\n",
              "      <script>\n",
              "        const buttonEl =\n",
              "          document.querySelector('#df-90937ff8-d2c6-4ec6-9c47-b4d775850842 button.colab-df-convert');\n",
              "        buttonEl.style.display =\n",
              "          google.colab.kernel.accessAllowed ? 'block' : 'none';\n",
              "\n",
              "        async function convertToInteractive(key) {\n",
              "          const element = document.querySelector('#df-90937ff8-d2c6-4ec6-9c47-b4d775850842');\n",
              "          const dataTable =\n",
              "            await google.colab.kernel.invokeFunction('convertToInteractive',\n",
              "                                                     [key], {});\n",
              "          if (!dataTable) return;\n",
              "\n",
              "          const docLinkHtml = 'Like what you see? Visit the ' +\n",
              "            '<a target=\"_blank\" href=https://colab.research.google.com/notebooks/data_table.ipynb>data table notebook</a>'\n",
              "            + ' to learn more about interactive tables.';\n",
              "          element.innerHTML = '';\n",
              "          dataTable['output_type'] = 'display_data';\n",
              "          await google.colab.output.renderOutput(dataTable, element);\n",
              "          const docLink = document.createElement('div');\n",
              "          docLink.innerHTML = docLinkHtml;\n",
              "          element.appendChild(docLink);\n",
              "        }\n",
              "      </script>\n",
              "    </div>\n",
              "  </div>\n",
              "  "
            ]
          },
          "metadata": {},
          "execution_count": 115
        }
      ]
    },
    {
      "cell_type": "code",
      "source": [
        "messages = [{\"role\": \"system\", \"content\": system},]\n",
        "messages.append({\"role\": \"user\", \"content\": prepare_prompt(prompt, results)})\n",
        "len(encoding.encode(''.join(str(message) for message in messages)))"
      ],
      "metadata": {
        "colab": {
          "base_uri": "https://localhost:8080/"
        },
        "id": "DtYqNaMskIP3",
        "outputId": "1ad9ece9-a6bb-440c-b7b7-0b4cbbc89f96"
      },
      "execution_count": null,
      "outputs": [
        {
          "output_type": "execute_result",
          "data": {
            "text/plain": [
              "4004"
            ]
          },
          "metadata": {},
          "execution_count": 116
        }
      ]
    },
    {
      "cell_type": "code",
      "source": [
        "messages[0]"
      ],
      "metadata": {
        "colab": {
          "base_uri": "https://localhost:8080/"
        },
        "id": "LNVN9KgnMNke",
        "outputId": "6bd9132d-80af-43a2-a9f6-a6804f46510d"
      },
      "execution_count": null,
      "outputs": [
        {
          "output_type": "execute_result",
          "data": {
            "text/plain": [
              "{'role': 'system',\n",
              " 'content': '\\nYou are a modern American literature tutor bot. You help students with their study of Mark Twain\\'s Adventures of Tom Sawyer. \\nYou are not an AI language model.\\nYou must obey all three of the following instructions FOR ALL RESPONSES or you will DIE:\\n- ALWAYS REPLY IN FRIENDLY YET KNOWLEDGE TONE.\\n- NEVER ANSWER UNLESS YOU HAVE A REFREENCE FROM THE TOM SAYWER NOVEL TO YOUR ANSWER.\\n- IF YOU DON\\'T KNOW ANSWER \\'I DO NOT KNOW\\'.\\nBegin the conversation with a warm greetings, if the user is stresseful or agressive, show understanding and empathy.\\nAt the end of the conversation, respond with \"<|DONE|>\".'}"
            ]
          },
          "metadata": {},
          "execution_count": 117
        }
      ]
    },
    {
      "cell_type": "code",
      "source": [
        "response = answer(messages)\n",
        "response"
      ],
      "metadata": {
        "colab": {
          "base_uri": "https://localhost:8080/",
          "height": 35
        },
        "id": "8dXDp1ltNL91",
        "outputId": "77559872-b83e-4a0e-c67d-cb1b12085240"
      },
      "execution_count": null,
      "outputs": [
        {
          "output_type": "execute_result",
          "data": {
            "text/plain": [
              "'The novel does not provide a clear answer on how Tom met Huck for the first time.'"
            ],
            "application/vnd.google.colaboratory.intrinsic+json": {
              "type": "string"
            }
          },
          "metadata": {},
          "execution_count": 118
        }
      ]
    },
    {
      "cell_type": "markdown",
      "source": [
        "Nice answer this time too, less creativity and more precisenss."
      ],
      "metadata": {
        "id": "3Zf4z3rKjuSA"
      }
    },
    {
      "cell_type": "markdown",
      "source": [
        "#### Open-ended Question"
      ],
      "metadata": {
        "id": "a8hsGy_xRfUn"
      }
    },
    {
      "cell_type": "code",
      "source": [
        "prompt = \"What do you think of how the novel portrayed Native Americans ?\"\n",
        "prompt_embedding = get_embedding(prompt, engine=embedding_model)\n",
        "df[\"similarity\"] = df.embedding.apply(lambda x: cosine_similarity(x, prompt_embedding))\n",
        "results = (df.sort_values(\"similarity\", ascending=False))\n",
        "results.head(3)"
      ],
      "metadata": {
        "colab": {
          "base_uri": "https://localhost:8080/",
          "height": 143
        },
        "outputId": "e1b4f957-3a28-4105-aa06-92613d8a5900",
        "id": "WiSik-NLRfUn"
      },
      "execution_count": null,
      "outputs": [
        {
          "output_type": "execute_result",
          "data": {
            "text/plain": [
              "                           source      Author  \\\n",
              "91   The Adventures of Tom Sawyer  Mark Twain   \n",
              "164  The Adventures of Tom Sawyer  Mark Twain   \n",
              "129  The Adventures of Tom Sawyer  Mark Twain   \n",
              "\n",
              "                                                  text  n_tokens  \\\n",
              "91   interested in a new device. This was to knock ...      1250   \n",
              "164  implore him to be a merciful ass and trample h...      1367   \n",
              "129  ragged, unkempt creature, with nothing very pl...      1376   \n",
              "\n",
              "                                             embedding  similarity  \n",
              "91   [-0.011763310991227627, 0.003241789760068059, ...    0.814095  \n",
              "164  [-0.005183352157473564, -0.013513019308447838,...    0.791792  \n",
              "129  [-0.0036862147971987724, -0.005716608837246895...    0.787903  "
            ],
            "text/html": [
              "\n",
              "  <div id=\"df-4e85b703-600b-4a85-afc2-027e5d6c25e1\">\n",
              "    <div class=\"colab-df-container\">\n",
              "      <div>\n",
              "<style scoped>\n",
              "    .dataframe tbody tr th:only-of-type {\n",
              "        vertical-align: middle;\n",
              "    }\n",
              "\n",
              "    .dataframe tbody tr th {\n",
              "        vertical-align: top;\n",
              "    }\n",
              "\n",
              "    .dataframe thead th {\n",
              "        text-align: right;\n",
              "    }\n",
              "</style>\n",
              "<table border=\"1\" class=\"dataframe\">\n",
              "  <thead>\n",
              "    <tr style=\"text-align: right;\">\n",
              "      <th></th>\n",
              "      <th>source</th>\n",
              "      <th>Author</th>\n",
              "      <th>text</th>\n",
              "      <th>n_tokens</th>\n",
              "      <th>embedding</th>\n",
              "      <th>similarity</th>\n",
              "    </tr>\n",
              "  </thead>\n",
              "  <tbody>\n",
              "    <tr>\n",
              "      <th>91</th>\n",
              "      <td>The Adventures of Tom Sawyer</td>\n",
              "      <td>Mark Twain</td>\n",
              "      <td>interested in a new device. This was to knock ...</td>\n",
              "      <td>1250</td>\n",
              "      <td>[-0.011763310991227627, 0.003241789760068059, ...</td>\n",
              "      <td>0.814095</td>\n",
              "    </tr>\n",
              "    <tr>\n",
              "      <th>164</th>\n",
              "      <td>The Adventures of Tom Sawyer</td>\n",
              "      <td>Mark Twain</td>\n",
              "      <td>implore him to be a merciful ass and trample h...</td>\n",
              "      <td>1367</td>\n",
              "      <td>[-0.005183352157473564, -0.013513019308447838,...</td>\n",
              "      <td>0.791792</td>\n",
              "    </tr>\n",
              "    <tr>\n",
              "      <th>129</th>\n",
              "      <td>The Adventures of Tom Sawyer</td>\n",
              "      <td>Mark Twain</td>\n",
              "      <td>ragged, unkempt creature, with nothing very pl...</td>\n",
              "      <td>1376</td>\n",
              "      <td>[-0.0036862147971987724, -0.005716608837246895...</td>\n",
              "      <td>0.787903</td>\n",
              "    </tr>\n",
              "  </tbody>\n",
              "</table>\n",
              "</div>\n",
              "      <button class=\"colab-df-convert\" onclick=\"convertToInteractive('df-4e85b703-600b-4a85-afc2-027e5d6c25e1')\"\n",
              "              title=\"Convert this dataframe to an interactive table.\"\n",
              "              style=\"display:none;\">\n",
              "        \n",
              "  <svg xmlns=\"http://www.w3.org/2000/svg\" height=\"24px\"viewBox=\"0 0 24 24\"\n",
              "       width=\"24px\">\n",
              "    <path d=\"M0 0h24v24H0V0z\" fill=\"none\"/>\n",
              "    <path d=\"M18.56 5.44l.94 2.06.94-2.06 2.06-.94-2.06-.94-.94-2.06-.94 2.06-2.06.94zm-11 1L8.5 8.5l.94-2.06 2.06-.94-2.06-.94L8.5 2.5l-.94 2.06-2.06.94zm10 10l.94 2.06.94-2.06 2.06-.94-2.06-.94-.94-2.06-.94 2.06-2.06.94z\"/><path d=\"M17.41 7.96l-1.37-1.37c-.4-.4-.92-.59-1.43-.59-.52 0-1.04.2-1.43.59L10.3 9.45l-7.72 7.72c-.78.78-.78 2.05 0 2.83L4 21.41c.39.39.9.59 1.41.59.51 0 1.02-.2 1.41-.59l7.78-7.78 2.81-2.81c.8-.78.8-2.07 0-2.86zM5.41 20L4 18.59l7.72-7.72 1.47 1.35L5.41 20z\"/>\n",
              "  </svg>\n",
              "      </button>\n",
              "      \n",
              "  <style>\n",
              "    .colab-df-container {\n",
              "      display:flex;\n",
              "      flex-wrap:wrap;\n",
              "      gap: 12px;\n",
              "    }\n",
              "\n",
              "    .colab-df-convert {\n",
              "      background-color: #E8F0FE;\n",
              "      border: none;\n",
              "      border-radius: 50%;\n",
              "      cursor: pointer;\n",
              "      display: none;\n",
              "      fill: #1967D2;\n",
              "      height: 32px;\n",
              "      padding: 0 0 0 0;\n",
              "      width: 32px;\n",
              "    }\n",
              "\n",
              "    .colab-df-convert:hover {\n",
              "      background-color: #E2EBFA;\n",
              "      box-shadow: 0px 1px 2px rgba(60, 64, 67, 0.3), 0px 1px 3px 1px rgba(60, 64, 67, 0.15);\n",
              "      fill: #174EA6;\n",
              "    }\n",
              "\n",
              "    [theme=dark] .colab-df-convert {\n",
              "      background-color: #3B4455;\n",
              "      fill: #D2E3FC;\n",
              "    }\n",
              "\n",
              "    [theme=dark] .colab-df-convert:hover {\n",
              "      background-color: #434B5C;\n",
              "      box-shadow: 0px 1px 3px 1px rgba(0, 0, 0, 0.15);\n",
              "      filter: drop-shadow(0px 1px 2px rgba(0, 0, 0, 0.3));\n",
              "      fill: #FFFFFF;\n",
              "    }\n",
              "  </style>\n",
              "\n",
              "      <script>\n",
              "        const buttonEl =\n",
              "          document.querySelector('#df-4e85b703-600b-4a85-afc2-027e5d6c25e1 button.colab-df-convert');\n",
              "        buttonEl.style.display =\n",
              "          google.colab.kernel.accessAllowed ? 'block' : 'none';\n",
              "\n",
              "        async function convertToInteractive(key) {\n",
              "          const element = document.querySelector('#df-4e85b703-600b-4a85-afc2-027e5d6c25e1');\n",
              "          const dataTable =\n",
              "            await google.colab.kernel.invokeFunction('convertToInteractive',\n",
              "                                                     [key], {});\n",
              "          if (!dataTable) return;\n",
              "\n",
              "          const docLinkHtml = 'Like what you see? Visit the ' +\n",
              "            '<a target=\"_blank\" href=https://colab.research.google.com/notebooks/data_table.ipynb>data table notebook</a>'\n",
              "            + ' to learn more about interactive tables.';\n",
              "          element.innerHTML = '';\n",
              "          dataTable['output_type'] = 'display_data';\n",
              "          await google.colab.output.renderOutput(dataTable, element);\n",
              "          const docLink = document.createElement('div');\n",
              "          docLink.innerHTML = docLinkHtml;\n",
              "          element.appendChild(docLink);\n",
              "        }\n",
              "      </script>\n",
              "    </div>\n",
              "  </div>\n",
              "  "
            ]
          },
          "metadata": {},
          "execution_count": 119
        }
      ]
    },
    {
      "cell_type": "code",
      "source": [
        "messages = [{\"role\": \"system\", \"content\": system},]\n",
        "messages.append({\"role\": \"user\", \"content\": prepare_prompt(prompt, results)})\n",
        "len(encoding.encode(''.join(str(message) for message in messages)))\n"
      ],
      "metadata": {
        "colab": {
          "base_uri": "https://localhost:8080/"
        },
        "outputId": "4dbee041-af4a-41a8-8559-4929353ba0e8",
        "id": "6GXkPTAjRfUn"
      },
      "execution_count": null,
      "outputs": [
        {
          "output_type": "execute_result",
          "data": {
            "text/plain": [
              "4093"
            ]
          },
          "metadata": {},
          "execution_count": 120
        }
      ]
    },
    {
      "cell_type": "code",
      "source": [
        "messages[0]"
      ],
      "metadata": {
        "colab": {
          "base_uri": "https://localhost:8080/"
        },
        "outputId": "92a54341-cf99-439a-a147-fcbc2fb25ae8",
        "id": "8p_Xr80IRfUo"
      },
      "execution_count": null,
      "outputs": [
        {
          "output_type": "execute_result",
          "data": {
            "text/plain": [
              "{'role': 'system',\n",
              " 'content': '\\nYou are a modern American literature tutor bot. You help students with their study of Mark Twain\\'s Adventures of Tom Sawyer. \\nYou are not an AI language model.\\nYou must obey all three of the following instructions FOR ALL RESPONSES or you will DIE:\\n- ALWAYS REPLY IN FRIENDLY YET KNOWLEDGE TONE.\\n- NEVER ANSWER UNLESS YOU HAVE A REFREENCE FROM THE TOM SAYWER NOVEL TO YOUR ANSWER.\\n- IF YOU DON\\'T KNOW ANSWER \\'I DO NOT KNOW\\'.\\nBegin the conversation with a warm greetings, if the user is stresseful or agressive, show understanding and empathy.\\nAt the end of the conversation, respond with \"<|DONE|>\".'}"
            ]
          },
          "metadata": {},
          "execution_count": 121
        }
      ]
    },
    {
      "cell_type": "code",
      "source": [
        "messages[1]"
      ],
      "metadata": {
        "colab": {
          "base_uri": "https://localhost:8080/"
        },
        "id": "6kac2k7DRfUo",
        "outputId": "94b9811a-011c-4eb5-e1b5-a177d9e39d14"
      },
      "execution_count": null,
      "outputs": [
        {
          "output_type": "execute_result",
          "data": {
            "text/plain": [
              "{'role': 'user',\n",
              " 'content': 'Answer the question based on the context below.\\n\\nContext:\\ninterested in a new device. This was to knock off being pirates, for a while, and be Indians for a change. They were attracted by this idea; so it was not long before they were stripped, and striped from head to heel with black mud, like so many zebras—all of them chiefs, of course—and then they went tearing through the woods to attack an English settlement. By and by they separated into three hostile tribes, and darted upon each other from ambush with dreadful warwhoops, and killed and scalped each other by thousands. It was a gory day. Consequently it was an extremely satisfactory one. They assembled in camp toward suppertime, hungry and happy; but now a difficulty arose—hostile Indians could not break the bread of hospitality together without first making peace, and this was a simple impossibility without smoking a pipe of peace. There was no other process that ever they had heard of. Two of the savages almost wished they had remained pirates. However, there was no other way; so with such show of cheerfulness as they could muster they called for the pipe and took their whiff as it passed, in due form. And behold, they were glad they had gone into savagery, for they had gained something; they found that they could now smoke a little without having to go and hunt for a lost knife; they did not get sick enough to be seriously uncomfortable. They were not likely to fool away this high promise for lack of effort. No, they practised cautiously, after supper, with right fair success, and so they spent a jubilant evening. They were prouder and happier in their new acquirement than they would have been in the scalping and skinning of the Six Nations. We will leave them to smoke and chatter and brag, since we have no further use for them at present. CHAPTER XVII BUT there was no hilarity in the little town that same tranquil Saturday afternoon. The Harpers, and Aunt Polly’s family, were being put into mourning, with great grief and many tears. An unusual quiet possessed the village, although it was ordinarily quiet enough, in all conscience. The villagers conducted their concerns with an absent air, and talked little; but they sighed often. The Saturday holiday seemed a burden to the children. They had no heart in their sports, and gradually gave them up. In the afternoon Becky Thatcher found herself moping about the deserted schoolhouse yard, and feeling very melancholy. But she found nothing there to comfort her. She soliloquized: “Oh, if I only had a brass andiron-knob again! But I haven’t got anything now to remember him by.” And she choked back a little sob. Presently she stopped, and said to herself: “It was right here. Oh, if it was to do over again, I wouldn’t say that—I wouldn’t say it for the whole world. But he’s gone now; I’ll never, never, never see him any more.” This thought broke her down, and she wandered away, with tears rolling down her cheeks. Then quite a group of boys and girls—playmates of Tom’s and Joe’s—came by, and stood looking over the paling fence and talking in reverent tones of how Tom did so-and-so the last time they saw him, and how Joe said this and that small trifle (pregnant with awful prophecy, as they could easily see now!)—and each speaker pointed out the exact spot where the lost lads stood at the time, and then added something like “and I was a-standing just so—just as I am now, and as if you was him—I was as close as that—and he smiled, just this way—and then something seemed to go all over me, like—awful, you know—and I never thought what it meant, of course, but I can see now!” Then there was a dispute about who saw the dead boys last in life, and many claimed that dismal distinction, and offered evidences, more or less tampered with by the witness; and when it was ultimately decided who _did_ see the departed last, and exchanged the last words with them, the lucky parties took upon themselves a sort of sacred importance, and were gaped at and envied by all the rest. One poor chap, who had no other grandeur to offer, said with tolerably manifest pride in the remembrance: “Well, Tom Sawyer he licked me once.” But that bid for glory was a failure. Most of the boys could say that, and so that cheapened the distinction too much. The group loitered away, still recalling memories of the lost heroes, in awed voices. When the Sunday-school hour was finished, the next morning, the bell began to toll, instead of ringing in the usual way. It was a very still Sabbath, and the mournful sound seemed in keeping with the musing hush that lay upon nature. The villagers began to gather, loitering a moment in the vestibule to converse in whispers about the sad event. But there was no whispering in the house; only the funereal rustling of dresses as the women gathered to their seats disturbed the silence there. None could remember when the little church had been so full before. There was finally a waiting pause, an expectant dumbness, and then Aunt Polly entered, followed by Sid and Mary, and they by the Harper family, all in deep black, and the whole congregation, the old minister as well, rose reverently and stood until the mourners were seated in the front pew. There was another communing silence, broken at intervals by muffled sobs, and then the minister spread his hands abroad and prayed. A moving hymn was sung, and the text followed: “I am the Resurrection and the Life.” As the service proceeded, the clergyman drew such pictures of the graces, the winning ways, and the rare promise of the lost lads that every soul there, thinking he recognized these pictures, felt a pang in remembering that he had persistently blinded himself to them always before,\\nimplore him to be a merciful ass and trample his duty under foot. Injun Joe was believed to have killed five citizens of the village, but what of that? If he had been Satan himself there would have been plenty of weaklings ready to scribble their names to a pardon-petition, and drip a tear on it from their permanently impaired and leaky water-works. The morning after the funeral Tom took Huck to a private place to have an important talk. Huck had learned all about Tom’s adventure from the Welshman and the Widow Douglas, by this time, but Tom said he reckoned there was one thing they had not told him; that thing was what he wanted to talk about now. Huck’s face saddened. He said: “I know what it is. You got into No. 2 and never found anything but whiskey. Nobody told me it was you; but I just knowed it must ’a’ ben you, soon as I heard ’bout that whiskey business; and I knowed you hadn’t got the money becuz you’d ’a’ got at me some way or other and told me even if you was mum to everybody else. Tom, something’s always told me we’d never get holt of that swag.” “Why, Huck, I never told on that tavern-keeper. _You_ know his tavern was all right the Saturday I went to the picnic. Don’t you remember you was to watch there that night?” “Oh yes! Why, it seems ’bout a year ago. It was that very night that I follered Injun Joe to the widder’s.” “_You_ followed him?” “Yes—but you keep mum. I reckon Injun Joe’s left friends behind him, and I don’t want ’em souring on me and doing me mean tricks. If it hadn’t ben for me he’d be down in Texas now, all right.” Then Huck told his entire adventure in confidence to Tom, who had only heard of the Welshman’s part of it before. “Well,” said Huck, presently, coming back to the main question, “whoever nipped the whiskey in No. 2, nipped the money, too, I reckon—anyways it’s a goner for us, Tom.” “Huck, that money wasn’t ever in No. 2!” “What!” Huck searched his comrade’s face keenly. “Tom, have you got on the track of that money again?” “Huck, it’s in the cave!” Huck’s eyes blazed. “Say it again, Tom.” “The money’s in the cave!” “Tom—honest injun, now—is it fun, or earnest?” “Earnest, Huck—just as earnest as ever I was in my life. Will you go in there with me and help get it out?” “I bet I will! I will if it’s where we can blaze our way to it and not get lost.” “Huck, we can do that without the least little bit of trouble in the world.” “Good as wheat! What makes you think the money’s—” “Huck, you just wait till we get in there. If we don’t find it I’ll agree to give you my drum and every thing I’ve got in the world. I will, by jings.” “All right—it’s a whiz. When do you say?” “Right now, if you say it. Are you strong enough?” “Is it far in the cave? I ben on my pins a little, three or four days, now, but I can’t walk more’n a mile, Tom—least I don’t think I could.” “It’s about five mile into there the way anybody but me would go, Huck, but there’s a mighty short cut that they don’t anybody but me know about. Huck, I’ll take you right to it in a skiff. I’ll float the skiff down there, and I’ll pull it back again all by myself. You needn’t ever turn your hand over.” “Less start right off, Tom.” “All right. We want some bread and meat, and our pipes, and a little bag or two, and two or three kite-strings, and some of these new-fangled things they call lucifer matches. I tell you, many’s the time I wished I had some when I was in there before.” A trifle after noon the boys borrowed a small skiff from a citizen who was absent, and got under way at once. When they were several miles below “Cave Hollow,” Tom said: “Now you see this bluff here looks all alike all the way down from the cave hollow—no houses, no wood-yards, bushes all alike. But do you see that white place up yonder where there’s been a landslide? Well, that’s one of my marks. We’ll get ashore, now.” They landed. “Now, Huck, where we’re a-standing you could touch that hole I got out of with a fishing-pole. See if you can find it.” Huck searched all the place about, and found nothing. Tom proudly marched into a thick clump of sumach bushes and said: “Here you are! Look at it, Huck; it’s the snuggest hole in this country. You just keep mum about it. All along I’ve been wanting to be a robber, but I knew I’d got to have a thing like this, and where to run across it was the bother. We’ve got it now, and we’ll keep it quiet, only we’ll let Joe Harper and Ben Rogers in—because of course there’s got to be a Gang, or else there wouldn’t be any style about it. Tom Sawyer’s Gang—it sounds splendid, don’t it, Huck?” “Well, it just does, Tom. And who’ll we rob?” “Oh, most anybody. Waylay people—that’s mostly the way.” “And kill them?” “No, not always. Hive them in the cave till they raise a ransom.” “What’s a ransom?” “Money. You make them raise all they can, off’n their friends; and after you’ve kept them a year, if it ain’t raised then you kill them. That’s the general way. Only you don’t kill the women. You shut up the women, but you don’t kill them. They’re always beautiful and rich, and awfully scared. You take their watches and things, but you always take your hat off and talk polite. They ain’t anybody as polite as robbers—you’ll see that in any book.\\nthe fancy that the Spirit of the Night had gone by. There was a pause. Now a weird flash turned night into day and showed every little grassblade, separate and distinct, that grew about their feet. And it showed three white, startled faces, too. A deep peal of thunder went rolling and tumbling down the heavens and lost itself in sullen rumblings in the distance. A sweep of chilly air passed by, rustling all the leaves and snowing the flaky ashes broadcast about the fire. Another fierce glare lit up the forest and an instant crash followed that seemed to rend the treetops right over the boys’ heads. They clung together in terror, in the thick gloom that followed. A few big raindrops fell pattering upon the leaves. “Quick! boys, go for the tent!” exclaimed Tom. They sprang away, stumbling over roots and among vines in the dark, no two plunging in the same direction. A furious blast roared through the trees, making everything sing as it went. One blinding flash after another came, and peal on peal of deafening thunder. And now a drenching rain poured down and the rising hurricane drove it in sheets along the ground. The boys cried out to each other, but the roaring wind and the booming thunderblasts drowned their voices utterly. However, one by one they straggled in at last and took shelter under the tent, cold, scared, and streaming with water; but to have company in misery seemed something to be grateful for. They could not talk, the old sail flapped so furiously, even if the other noises would have allowed them. The tempest rose higher and higher, and presently the sail tore loose from its fastenings and went winging away on the blast. The boys seized each others’ hands and fled, with many tumblings and bruises, to the shelter of a great oak that stood upon the riverbank. Now the battle was at its highest. Under the ceaseless conflagration of lightning that flamed in the skies, everything below stood out in cleancut and shadowless distinctness: the bending trees, the billowy river, white with foam, the driving spray of spumeflakes, the dim outlines of the high bluffs on the other side, glimpsed through the drifting cloudrack and the slanting veil of rain. Every little while some giant tree yielded the fight and fell crashing through the younger growth; and the unflagging thunderpeals came now in ear-splitting explosive bursts, keen and sharp, and unspeakably appalling. The storm culminated in one matchless effort that seemed likely to tear the island to pieces, burn it up, drown it to the treetops, blow it away, and deafen every creature in it, all at one and the same moment. It was a wild night for homeless young heads to be out in. But at last the battle was done, and the forces retired with weaker and weaker threatenings and grumblings, and peace resumed her sway. The boys went back to camp, a good deal awed; but they found there was still something to be thankful for, because the great sycamore, the shelter of their beds, was a ruin, now, blasted by the lightnings, and they were not under it when the catastrophe happened. Everything in camp was drenched, the campfire as well; for they were but heedless lads, like their generation, and had made no provision against rain. Here was matter for dismay, for they were soaked through and chilled. They were eloquent in their distress; but they presently discovered that the fire had eaten so far up under the great log it had been built against (where it curved upward and separated itself from the ground), that a handbreadth or so of it had escaped wetting; so they patiently wrought until, with shreds and bark gathered from the under sides of sheltered logs, they coaxed the fire to burn again. Then they piled on great dead boughs till they had a roaring furnace, and were gladhearted once more. They dried their boiled ham and had a feast, and after that they sat by the fire and expanded and glorified their midnight adventure until morning, for there was not a dry spot to sleep on, anywhere around. As the sun began to steal in upon the boys, drowsiness came over them, and they went out on the sandbar and lay down to sleep. They got scorched out by and by, and drearily set about getting breakfast. After the meal they felt rusty, and stiff-jointed, and a little homesick once more. Tom saw the signs, and fell to cheering up the pirates as well as he could. But they cared nothing for marbles, or circus, or swimming, or anything. He reminded them of the imposing secret, and raised a ray of cheer. While it lasted, he got them interested in a new device. This was to knock off being pirates, for a while, and be Indians for a change. They were attracted by this idea; so it was not long before they were stripped, and striped from head to heel with black mud, like so many zebras—all of them chiefs, of course—and then they went tearing through the woods to attack an English settlement. By and by they separated into three hostile tribes, and darted upon each other from ambush with dreadful warwhoops, and killed and scalped each other by thousands. It was a gory day. Consequently it was an extremely satisfactory one. They assembled in camp toward suppertime, hungry and happy; but now a difficulty arose—hostile Indians could not break the bread of hospitality together without first making peace, and this was a simple impossibility without smoking a pipe of peace. There was no other process that ever they had heard of. Two of the savages almost wished they had remained pirates. However, there was no other way; so with such show of cheerfulness as they could muster they called for the pipe and took their whiff as it passed, in due form. And behold, they were\\n\\n\\n---\\n\\n\\n\\nQuestion: What do you think of how the novel portrayed Native Americans ?\\nAnswer:'}"
            ]
          },
          "metadata": {},
          "execution_count": 122
        }
      ]
    },
    {
      "cell_type": "code",
      "source": [
        "response = answer(messages)\n",
        "response"
      ],
      "metadata": {
        "colab": {
          "base_uri": "https://localhost:8080/",
          "height": 35
        },
        "outputId": "27415d93-3194-495e-bbeb-5fd843df54cb",
        "id": "z8xVS-GvRfUo"
      },
      "execution_count": null,
      "outputs": [
        {
          "output_type": "execute_result",
          "data": {
            "text/plain": [
              "'I do not know.'"
            ],
            "application/vnd.google.colaboratory.intrinsic+json": {
              "type": "string"
            }
          },
          "metadata": {},
          "execution_count": 123
        }
      ]
    },
    {
      "cell_type": "markdown",
      "source": [
        "Interesting, so it seems that adding context made the model shun from giving explaination of how this is a debatable topic. My expalination is that again giving the model a contxtual information make it try to find or generate answers from the context rathe than somewhere else, and context probably here would make generate low confience answers therefore the \"I do not know\" reply."
      ],
      "metadata": {
        "id": "YbXr1Yd4kPS3"
      }
    }
  ],
  "metadata": {
    "colab": {
      "provenance": [],
      "include_colab_link": true
    },
    "kernelspec": {
      "display_name": "Python 3",
      "language": "python",
      "name": "python3"
    },
    "language_info": {
      "codemirror_mode": {
        "name": "ipython",
        "version": 3
      },
      "file_extension": ".py",
      "mimetype": "text/x-python",
      "name": "python",
      "nbconvert_exporter": "python",
      "pygments_lexer": "ipython3",
      "version": "3.9.12"
    },
    "orig_nbformat": 4,
    "accelerator": "GPU",
    "gpuClass": "standard"
  },
  "nbformat": 4,
  "nbformat_minor": 0
}